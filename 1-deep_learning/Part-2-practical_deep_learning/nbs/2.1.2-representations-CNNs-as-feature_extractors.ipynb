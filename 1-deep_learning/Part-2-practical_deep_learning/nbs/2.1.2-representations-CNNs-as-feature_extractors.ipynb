{
 "cells": [
  {
   "cell_type": "markdown",
   "metadata": {},
   "source": [
    "ASL, 29.04.22"
   ]
  },
  {
   "cell_type": "markdown",
   "metadata": {
    "tags": []
   },
   "source": [
    "# Introduction"
   ]
  },
  {
   "cell_type": "markdown",
   "metadata": {},
   "source": [
    "As we've learned, deep neural networks provide (at least partly) hierarchical representations of data, tailored for a given task. \n",
    "\n",
    "<img src=\"https://upload.wikimedia.org/wikipedia/en/8/83/VGG_neural_network.png\">"
   ]
  },
  {
   "cell_type": "markdown",
   "metadata": {},
   "source": [
    "At the end of a high-performance deep neural network, i.e. in the later hidden layers, you'll find a representation for each data instance that makes the task (relatively) easy to solve. \n",
    "\n",
    "An idea that can be quite useful in a wide variety of tasks is to _extract_ these representations and use them in other ML models. This is one easy way to combine information extracted by a deep neural network with other useful information for the task at hand. "
   ]
  },
  {
   "cell_type": "markdown",
   "metadata": {},
   "source": [
    "We'll use this idea in this notebook by extracting vector representations from the last hidden layer of a trained CNN, and use them to for training other ML models."
   ]
  },
  {
   "cell_type": "markdown",
   "metadata": {},
   "source": [
    "We'll do that by using so-called PyTorch **hooks**."
   ]
  },
  {
   "cell_type": "markdown",
   "metadata": {},
   "source": [
    "## Hooks in PyTorch"
   ]
  },
  {
   "cell_type": "markdown",
   "metadata": {},
   "source": [
    "Remember that neural networks are **computational graphs**\n",
    "\n",
    "![](https://docs.chainer.org/en/latest/_images/googlenet.png)<br>\n",
    "<center><small>Illustration from <a href=\"https://docs.chainer.org/en/stable/\">https://docs.chainer.org/en/stable/</a> </small></center>\n",
    "\n",
    "- Hooks are functions injected into these computational graphs by attaching them to tensors or to modules (network layers)\n",
    "- This allows us to access, and potentially modify, gradients associated with tensors, and the inputs and outputs of layers (modules) as they flow through the computational graphs\n",
    "- We can attach backward and forward hooks to modules: triggered during backward and forward calculations, respectively.\n",
    "\n",
    "> In this notebook, we'll attach a hook to the final linear layer of the model to grab the activations before they are passed to the final classification layers. These activations will be a task-specific representation of the data. \n",
    "\n",
    "The PyTorch docs has a description of hooks here: https://pytorch.org/tutorials/beginner/former_torchies/nnft_tutorial.html#forward-and-backward-function-hooks. See also the Paperspace blog post: https://blog.paperspace.com/pytorch-hooks-gradient-clipping-debugging/. Here's a video tutorial that explains hooks in quite some detail: https://www.youtube.com/watch?v=syLFCVYua6Q. "
   ]
  },
  {
   "cell_type": "markdown",
   "metadata": {},
   "source": [
    "# Setup"
   ]
  },
  {
   "cell_type": "code",
   "execution_count": 1,
   "metadata": {},
   "outputs": [],
   "source": [
    "%matplotlib inline\n",
    "import pandas as pd\n",
    "import numpy as np\n",
    "from pathlib import Path\n",
    "import pandas as pd"
   ]
  },
  {
   "cell_type": "code",
   "execution_count": 2,
   "metadata": {},
   "outputs": [],
   "source": [
    "# If Jedi's not working\n",
    "%config Completer.use_jedi = False"
   ]
  },
  {
   "cell_type": "code",
   "execution_count": 3,
   "metadata": {},
   "outputs": [],
   "source": [
    "NB_DIR = Path.cwd()\n",
    "\n",
    "# Point this to where you stored the MOESM data:\n",
    "DATA = NB_DIR/'data'/'drug'\n",
    "RAW_DATA = DATA/'raw'\n",
    "# Path to image data as defined earlier\n",
    "IMGDATA = Path('/raid/alex/drugdiscovery/molimages/')"
   ]
  },
  {
   "cell_type": "code",
   "execution_count": 4,
   "metadata": {},
   "outputs": [],
   "source": [
    "NB_DIR = Path.cwd()\n",
    "LOCALDATA = NB_DIR/'data'/'drug'/'interim'"
   ]
  },
  {
   "cell_type": "code",
   "execution_count": 5,
   "metadata": {},
   "outputs": [],
   "source": [
    "from fastai.vision.all import *"
   ]
  },
  {
   "cell_type": "markdown",
   "metadata": {
    "heading_collapsed": true
   },
   "source": [
    "# Load data"
   ]
  },
  {
   "cell_type": "code",
   "execution_count": 6,
   "metadata": {
    "hidden": true
   },
   "outputs": [],
   "source": [
    "def get_df(data):\n",
    "    \"\"\"\n",
    "    Construct a dataframe containing \n",
    "        CID, SMILES, Image, Activity\n",
    "    \"\"\"\n",
    "    \n",
    "    name = data.stem\n",
    "    \n",
    "    df = pd.read_csv(data)\n",
    "    df['Image'] = df['CID'].apply(lambda x: f'{str(x)}.png')\n",
    "    \n",
    "    df = df[['CID', 'SMILES', 'Image', 'Activity']]\n",
    "    \n",
    "    return df, name"
   ]
  },
  {
   "cell_type": "markdown",
   "metadata": {
    "hidden": true
   },
   "source": [
    "We remember that we had 7 activity datasets:"
   ]
  },
  {
   "cell_type": "code",
   "execution_count": 7,
   "metadata": {
    "hidden": true
   },
   "outputs": [
    {
     "data": {
      "text/plain": [
       "[Path('/home/alex/Dropbox/Jobb/projects/ML/medGPU1-alex/HVL-MMIV-DLN-AI-2022/1-deep_learning/Part-2-practical_deep_learning/nbs/data/drug/raw/CHEMBL1978_cl.csv'),\n",
       " Path('/home/alex/Dropbox/Jobb/projects/ML/medGPU1-alex/HVL-MMIV-DLN-AI-2022/1-deep_learning/Part-2-practical_deep_learning/nbs/data/drug/raw/CHEMBL205_cl.csv'),\n",
       " Path('/home/alex/Dropbox/Jobb/projects/ML/medGPU1-alex/HVL-MMIV-DLN-AI-2022/1-deep_learning/Part-2-practical_deep_learning/nbs/data/drug/raw/CHEMBL218_cl.csv'),\n",
       " Path('/home/alex/Dropbox/Jobb/projects/ML/medGPU1-alex/HVL-MMIV-DLN-AI-2022/1-deep_learning/Part-2-practical_deep_learning/nbs/data/drug/raw/CHEMBL219_cl.csv'),\n",
       " Path('/home/alex/Dropbox/Jobb/projects/ML/medGPU1-alex/HVL-MMIV-DLN-AI-2022/1-deep_learning/Part-2-practical_deep_learning/nbs/data/drug/raw/CHEMBL240_cl.csv'),\n",
       " Path('/home/alex/Dropbox/Jobb/projects/ML/medGPU1-alex/HVL-MMIV-DLN-AI-2022/1-deep_learning/Part-2-practical_deep_learning/nbs/data/drug/raw/CHEMBL244_cl.csv'),\n",
       " Path('/home/alex/Dropbox/Jobb/projects/ML/medGPU1-alex/HVL-MMIV-DLN-AI-2022/1-deep_learning/Part-2-practical_deep_learning/nbs/data/drug/raw/CHEMBL301_cl.csv')]"
      ]
     },
     "execution_count": 7,
     "metadata": {},
     "output_type": "execute_result"
    }
   ],
   "source": [
    "# Datasets available:\n",
    "data = sorted(list(RAW_DATA.glob('CHEM*cl.csv')))\n",
    "data"
   ]
  },
  {
   "cell_type": "markdown",
   "metadata": {
    "hidden": true
   },
   "source": [
    "...and that we've generated images of the molecules:"
   ]
  },
  {
   "cell_type": "code",
   "execution_count": 8,
   "metadata": {
    "hidden": true
   },
   "outputs": [
    {
     "data": {
      "text/plain": [
       "(#1) [Path('/raid/alex/drugdiscovery/molimages/CHEMBL1978_cl')]"
      ]
     },
     "execution_count": 8,
     "metadata": {},
     "output_type": "execute_result"
    }
   ],
   "source": [
    "IMGDATA.ls()"
   ]
  },
  {
   "cell_type": "markdown",
   "metadata": {
    "hidden": true
   },
   "source": [
    "We'll use the **CHEMBL1978** data set in this notebook, as it's one of the smaller ones (and therefore quicker to train models on and to extract features from):"
   ]
  },
  {
   "cell_type": "code",
   "execution_count": 9,
   "metadata": {
    "hidden": true
   },
   "outputs": [
    {
     "data": {
      "text/plain": [
       "Path('/home/alex/Dropbox/Jobb/projects/ML/medGPU1-alex/HVL-MMIV-DLN-AI-2022/1-deep_learning/Part-2-practical_deep_learning/nbs/data/drug/raw/CHEMBL1978_cl.csv')"
      ]
     },
     "execution_count": 9,
     "metadata": {},
     "output_type": "execute_result"
    }
   ],
   "source": [
    "ds = data[0]\n",
    "ds"
   ]
  },
  {
   "cell_type": "code",
   "execution_count": 10,
   "metadata": {
    "hidden": true
   },
   "outputs": [],
   "source": [
    "df, name = get_df(ds)"
   ]
  },
  {
   "cell_type": "code",
   "execution_count": 11,
   "metadata": {
    "hidden": true
   },
   "outputs": [
    {
     "data": {
      "text/html": [
       "<div>\n",
       "<style scoped>\n",
       "    .dataframe tbody tr th:only-of-type {\n",
       "        vertical-align: middle;\n",
       "    }\n",
       "\n",
       "    .dataframe tbody tr th {\n",
       "        vertical-align: top;\n",
       "    }\n",
       "\n",
       "    .dataframe thead th {\n",
       "        text-align: right;\n",
       "    }\n",
       "</style>\n",
       "<table border=\"1\" class=\"dataframe\">\n",
       "  <thead>\n",
       "    <tr style=\"text-align: right;\">\n",
       "      <th></th>\n",
       "      <th>CID</th>\n",
       "      <th>SMILES</th>\n",
       "      <th>Image</th>\n",
       "      <th>Activity</th>\n",
       "    </tr>\n",
       "  </thead>\n",
       "  <tbody>\n",
       "    <tr>\n",
       "      <th>0</th>\n",
       "      <td>CHEMBL1454842</td>\n",
       "      <td>s1nc(nc1-c1ccncc1)-c1ccncc1</td>\n",
       "      <td>CHEMBL1454842.png</td>\n",
       "      <td>1</td>\n",
       "    </tr>\n",
       "    <tr>\n",
       "      <th>1</th>\n",
       "      <td>CHEMBL1939366</td>\n",
       "      <td>s1nc(nc1-c1cccnc1)-c1cccnc1</td>\n",
       "      <td>CHEMBL1939366.png</td>\n",
       "      <td>1</td>\n",
       "    </tr>\n",
       "    <tr>\n",
       "      <th>2</th>\n",
       "      <td>CHEMBL192155</td>\n",
       "      <td>s1cncc1\\C=C\\1/CCc2cc(OC)ccc/12</td>\n",
       "      <td>CHEMBL192155.png</td>\n",
       "      <td>1</td>\n",
       "    </tr>\n",
       "    <tr>\n",
       "      <th>3</th>\n",
       "      <td>CHEMBL517816</td>\n",
       "      <td>s1cccc1CN(n1ncnc1)Cc1ccc(cc1)C(C)(C)C</td>\n",
       "      <td>CHEMBL517816.png</td>\n",
       "      <td>1</td>\n",
       "    </tr>\n",
       "    <tr>\n",
       "      <th>4</th>\n",
       "      <td>CHEMBL523973</td>\n",
       "      <td>s1cccc1CN(n1ccnc1)Cc1ccc(cc1)C(C)(C)C</td>\n",
       "      <td>CHEMBL523973.png</td>\n",
       "      <td>1</td>\n",
       "    </tr>\n",
       "  </tbody>\n",
       "</table>\n",
       "</div>"
      ],
      "text/plain": [
       "             CID                                 SMILES              Image  \\\n",
       "0  CHEMBL1454842            s1nc(nc1-c1ccncc1)-c1ccncc1  CHEMBL1454842.png   \n",
       "1  CHEMBL1939366            s1nc(nc1-c1cccnc1)-c1cccnc1  CHEMBL1939366.png   \n",
       "2   CHEMBL192155         s1cncc1\\C=C\\1/CCc2cc(OC)ccc/12   CHEMBL192155.png   \n",
       "3   CHEMBL517816  s1cccc1CN(n1ncnc1)Cc1ccc(cc1)C(C)(C)C   CHEMBL517816.png   \n",
       "4   CHEMBL523973  s1cccc1CN(n1ccnc1)Cc1ccc(cc1)C(C)(C)C   CHEMBL523973.png   \n",
       "\n",
       "   Activity  \n",
       "0         1  \n",
       "1         1  \n",
       "2         1  \n",
       "3         1  \n",
       "4         1  "
      ]
     },
     "execution_count": 11,
     "metadata": {},
     "output_type": "execute_result"
    }
   ],
   "source": [
    "df.head()"
   ]
  },
  {
   "cell_type": "code",
   "execution_count": 12,
   "metadata": {
    "hidden": true
   },
   "outputs": [
    {
     "name": "stdout",
     "output_type": "stream",
     "text": [
      "<class 'pandas.core.frame.DataFrame'>\n",
      "RangeIndex: 6831 entries, 0 to 6830\n",
      "Data columns (total 4 columns):\n",
      " #   Column    Non-Null Count  Dtype \n",
      "---  ------    --------------  ----- \n",
      " 0   CID       6831 non-null   object\n",
      " 1   SMILES    6831 non-null   object\n",
      " 2   Image     6831 non-null   object\n",
      " 3   Activity  6831 non-null   int64 \n",
      "dtypes: int64(1), object(3)\n",
      "memory usage: 213.6+ KB\n"
     ]
    }
   ],
   "source": [
    "df.info()"
   ]
  },
  {
   "cell_type": "code",
   "execution_count": 13,
   "metadata": {
    "hidden": true
   },
   "outputs": [
    {
     "data": {
      "text/plain": [
       "0    6210\n",
       "1     621\n",
       "Name: Activity, dtype: int64"
      ]
     },
     "execution_count": 13,
     "metadata": {},
     "output_type": "execute_result"
    }
   ],
   "source": [
    "df['Activity'].value_counts()"
   ]
  },
  {
   "cell_type": "markdown",
   "metadata": {
    "heading_collapsed": true,
    "hidden": true
   },
   "source": [
    "## Create train-val-split and oversample train"
   ]
  },
  {
   "cell_type": "code",
   "execution_count": 14,
   "metadata": {
    "hidden": true
   },
   "outputs": [],
   "source": [
    "from sklearn.model_selection import train_test_split"
   ]
  },
  {
   "cell_type": "code",
   "execution_count": 15,
   "metadata": {
    "hidden": true
   },
   "outputs": [],
   "source": [
    "def val_cols_and_oversample(df, test_size=0.25, random_state=42, oversample=True):\n",
    "    x_train,x_val = train_test_split(df.index, test_size=test_size, stratify=df['Activity'], \n",
    "                                     random_state=random_state)\n",
    "    \n",
    "    df.loc[x_train, 'is_valid']=False\n",
    "    df.loc[x_val, 'is_valid']=True\n",
    "    # Oversample is_valid=False columns\n",
    "    if oversample:\n",
    "        df = pd.concat([*[df.loc[(df.is_valid==False) & (df.Activity==1)]]*10, \n",
    "                        *[df.loc[(df.is_valid==False) & (df.Activity==0)]], \n",
    "                        df.loc[df.is_valid==True]], \n",
    "                       ignore_index=True)\n",
    "    return df"
   ]
  },
  {
   "cell_type": "code",
   "execution_count": 16,
   "metadata": {
    "hidden": true
   },
   "outputs": [],
   "source": [
    "df = val_cols_and_oversample(df)"
   ]
  },
  {
   "cell_type": "code",
   "execution_count": 17,
   "metadata": {
    "hidden": true
   },
   "outputs": [
    {
     "data": {
      "text/html": [
       "<div>\n",
       "<style scoped>\n",
       "    .dataframe tbody tr th:only-of-type {\n",
       "        vertical-align: middle;\n",
       "    }\n",
       "\n",
       "    .dataframe tbody tr th {\n",
       "        vertical-align: top;\n",
       "    }\n",
       "\n",
       "    .dataframe thead th {\n",
       "        text-align: right;\n",
       "    }\n",
       "</style>\n",
       "<table border=\"1\" class=\"dataframe\">\n",
       "  <thead>\n",
       "    <tr style=\"text-align: right;\">\n",
       "      <th></th>\n",
       "      <th>CID</th>\n",
       "      <th>SMILES</th>\n",
       "      <th>Image</th>\n",
       "      <th>Activity</th>\n",
       "      <th>is_valid</th>\n",
       "    </tr>\n",
       "  </thead>\n",
       "  <tbody>\n",
       "    <tr>\n",
       "      <th>0</th>\n",
       "      <td>CHEMBL1939366</td>\n",
       "      <td>s1nc(nc1-c1cccnc1)-c1cccnc1</td>\n",
       "      <td>CHEMBL1939366.png</td>\n",
       "      <td>1</td>\n",
       "      <td>False</td>\n",
       "    </tr>\n",
       "    <tr>\n",
       "      <th>1</th>\n",
       "      <td>CHEMBL517816</td>\n",
       "      <td>s1cccc1CN(n1ncnc1)Cc1ccc(cc1)C(C)(C)C</td>\n",
       "      <td>CHEMBL517816.png</td>\n",
       "      <td>1</td>\n",
       "      <td>False</td>\n",
       "    </tr>\n",
       "    <tr>\n",
       "      <th>2</th>\n",
       "      <td>CHEMBL523973</td>\n",
       "      <td>s1cccc1CN(n1ccnc1)Cc1ccc(cc1)C(C)(C)C</td>\n",
       "      <td>CHEMBL523973.png</td>\n",
       "      <td>1</td>\n",
       "      <td>False</td>\n",
       "    </tr>\n",
       "    <tr>\n",
       "      <th>3</th>\n",
       "      <td>CHEMBL1957218</td>\n",
       "      <td>s1cc(nc1-c1ccncc1C)-c1cccnc1</td>\n",
       "      <td>CHEMBL1957218.png</td>\n",
       "      <td>1</td>\n",
       "      <td>False</td>\n",
       "    </tr>\n",
       "    <tr>\n",
       "      <th>4</th>\n",
       "      <td>CHEMBL1957223</td>\n",
       "      <td>s1cc(nc1-c1cccnc1)-c1ccc(OC)nc1</td>\n",
       "      <td>CHEMBL1957223.png</td>\n",
       "      <td>1</td>\n",
       "      <td>False</td>\n",
       "    </tr>\n",
       "  </tbody>\n",
       "</table>\n",
       "</div>"
      ],
      "text/plain": [
       "             CID                                 SMILES              Image  \\\n",
       "0  CHEMBL1939366            s1nc(nc1-c1cccnc1)-c1cccnc1  CHEMBL1939366.png   \n",
       "1   CHEMBL517816  s1cccc1CN(n1ncnc1)Cc1ccc(cc1)C(C)(C)C   CHEMBL517816.png   \n",
       "2   CHEMBL523973  s1cccc1CN(n1ccnc1)Cc1ccc(cc1)C(C)(C)C   CHEMBL523973.png   \n",
       "3  CHEMBL1957218           s1cc(nc1-c1ccncc1C)-c1cccnc1  CHEMBL1957218.png   \n",
       "4  CHEMBL1957223        s1cc(nc1-c1cccnc1)-c1ccc(OC)nc1  CHEMBL1957223.png   \n",
       "\n",
       "   Activity is_valid  \n",
       "0         1    False  \n",
       "1         1    False  \n",
       "2         1    False  \n",
       "3         1    False  \n",
       "4         1    False  "
      ]
     },
     "execution_count": 17,
     "metadata": {},
     "output_type": "execute_result"
    }
   ],
   "source": [
    "df.head()"
   ]
  },
  {
   "cell_type": "code",
   "execution_count": 18,
   "metadata": {
    "hidden": true
   },
   "outputs": [
    {
     "data": {
      "text/plain": [
       "0    6210\n",
       "1    4815\n",
       "Name: Activity, dtype: int64"
      ]
     },
     "execution_count": 18,
     "metadata": {},
     "output_type": "execute_result"
    }
   ],
   "source": [
    "df['Activity'].value_counts()"
   ]
  },
  {
   "cell_type": "markdown",
   "metadata": {
    "heading_collapsed": true
   },
   "source": [
    "# Create a dataloader"
   ]
  },
  {
   "cell_type": "code",
   "execution_count": 19,
   "metadata": {
    "hidden": true
   },
   "outputs": [],
   "source": [
    "bs=64"
   ]
  },
  {
   "cell_type": "code",
   "execution_count": 20,
   "metadata": {
    "hidden": true
   },
   "outputs": [],
   "source": [
    "batch_tfms = [Rotate(max_deg=25, pad_mode='border'), \n",
    "              Normalize.from_stats(*imagenet_stats)]"
   ]
  },
  {
   "cell_type": "code",
   "execution_count": 21,
   "metadata": {
    "hidden": true
   },
   "outputs": [],
   "source": [
    "datablock = DataBlock(\n",
    "    blocks=(ImageBlock(), CategoryBlock()),\n",
    "    get_x=ColReader('Image', pref=IMGDATA/name),\n",
    "    get_y=ColReader('Activity'),\n",
    "    splitter=ColSplitter('is_valid'),\n",
    "    item_tfms=None,\n",
    "    batch_tfms=batch_tfms\n",
    "    )"
   ]
  },
  {
   "cell_type": "code",
   "execution_count": 22,
   "metadata": {
    "hidden": true
   },
   "outputs": [],
   "source": [
    "dls = datablock.dataloaders(df, bs=bs, shuffle_train=True)"
   ]
  },
  {
   "cell_type": "code",
   "execution_count": 23,
   "metadata": {
    "hidden": true
   },
   "outputs": [
    {
     "data": {
      "image/png": "[encoded data removed]",
      "text/plain": [
       "<Figure size 648x648 with 9 Axes>"
      ]
     },
     "metadata": {
      "needs_background": "light"
     },
     "output_type": "display_data"
    }
   ],
   "source": [
    "dls.show_batch()"
   ]
  },
  {
   "cell_type": "markdown",
   "metadata": {
    "heading_collapsed": true
   },
   "source": [
    "# Train a CNN"
   ]
  },
  {
   "cell_type": "code",
   "execution_count": 24,
   "metadata": {
    "hidden": true
   },
   "outputs": [],
   "source": [
    "from utils import plot_metrics"
   ]
  },
  {
   "cell_type": "markdown",
   "metadata": {
    "hidden": true
   },
   "source": [
    "We use a pretrained resnet18 model as before, only adding a custom \"head\" to the model that outputs 128 features (to have fewer activations in the final hidden layer):"
   ]
  },
  {
   "cell_type": "code",
   "execution_count": 25,
   "metadata": {
    "hidden": true
   },
   "outputs": [
    {
     "data": {
      "text/plain": [
       "ResNet(\n",
       "  (conv1): Conv2d(3, 64, kernel_size=(7, 7), stride=(2, 2), padding=(3, 3), bias=False)\n",
       "  (bn1): BatchNorm2d(64, eps=1e-05, momentum=0.1, affine=True, track_running_stats=True)\n",
       "  (relu): ReLU(inplace=True)\n",
       "  (maxpool): MaxPool2d(kernel_size=3, stride=2, padding=1, dilation=1, ceil_mode=False)\n",
       "  (layer1): Sequential(\n",
       "    (0): BasicBlock(\n",
       "      (conv1): Conv2d(64, 64, kernel_size=(3, 3), stride=(1, 1), padding=(1, 1), bias=False)\n",
       "      (bn1): BatchNorm2d(64, eps=1e-05, momentum=0.1, affine=True, track_running_stats=True)\n",
       "      (relu): ReLU(inplace=True)\n",
       "      (conv2): Conv2d(64, 64, kernel_size=(3, 3), stride=(1, 1), padding=(1, 1), bias=False)\n",
       "      (bn2): BatchNorm2d(64, eps=1e-05, momentum=0.1, affine=True, track_running_stats=True)\n",
       "    )\n",
       "    (1): BasicBlock(\n",
       "      (conv1): Conv2d(64, 64, kernel_size=(3, 3), stride=(1, 1), padding=(1, 1), bias=False)\n",
       "      (bn1): BatchNorm2d(64, eps=1e-05, momentum=0.1, affine=True, track_running_stats=True)\n",
       "      (relu): ReLU(inplace=True)\n",
       "      (conv2): Conv2d(64, 64, kernel_size=(3, 3), stride=(1, 1), padding=(1, 1), bias=False)\n",
       "      (bn2): BatchNorm2d(64, eps=1e-05, momentum=0.1, affine=True, track_running_stats=True)\n",
       "    )\n",
       "  )\n",
       "  (layer2): Sequential(\n",
       "    (0): BasicBlock(\n",
       "      (conv1): Conv2d(64, 128, kernel_size=(3, 3), stride=(2, 2), padding=(1, 1), bias=False)\n",
       "      (bn1): BatchNorm2d(128, eps=1e-05, momentum=0.1, affine=True, track_running_stats=True)\n",
       "      (relu): ReLU(inplace=True)\n",
       "      (conv2): Conv2d(128, 128, kernel_size=(3, 3), stride=(1, 1), padding=(1, 1), bias=False)\n",
       "      (bn2): BatchNorm2d(128, eps=1e-05, momentum=0.1, affine=True, track_running_stats=True)\n",
       "      (downsample): Sequential(\n",
       "        (0): Conv2d(64, 128, kernel_size=(1, 1), stride=(2, 2), bias=False)\n",
       "        (1): BatchNorm2d(128, eps=1e-05, momentum=0.1, affine=True, track_running_stats=True)\n",
       "      )\n",
       "    )\n",
       "    (1): BasicBlock(\n",
       "      (conv1): Conv2d(128, 128, kernel_size=(3, 3), stride=(1, 1), padding=(1, 1), bias=False)\n",
       "      (bn1): BatchNorm2d(128, eps=1e-05, momentum=0.1, affine=True, track_running_stats=True)\n",
       "      (relu): ReLU(inplace=True)\n",
       "      (conv2): Conv2d(128, 128, kernel_size=(3, 3), stride=(1, 1), padding=(1, 1), bias=False)\n",
       "      (bn2): BatchNorm2d(128, eps=1e-05, momentum=0.1, affine=True, track_running_stats=True)\n",
       "    )\n",
       "  )\n",
       "  (layer3): Sequential(\n",
       "    (0): BasicBlock(\n",
       "      (conv1): Conv2d(128, 256, kernel_size=(3, 3), stride=(2, 2), padding=(1, 1), bias=False)\n",
       "      (bn1): BatchNorm2d(256, eps=1e-05, momentum=0.1, affine=True, track_running_stats=True)\n",
       "      (relu): ReLU(inplace=True)\n",
       "      (conv2): Conv2d(256, 256, kernel_size=(3, 3), stride=(1, 1), padding=(1, 1), bias=False)\n",
       "      (bn2): BatchNorm2d(256, eps=1e-05, momentum=0.1, affine=True, track_running_stats=True)\n",
       "      (downsample): Sequential(\n",
       "        (0): Conv2d(128, 256, kernel_size=(1, 1), stride=(2, 2), bias=False)\n",
       "        (1): BatchNorm2d(256, eps=1e-05, momentum=0.1, affine=True, track_running_stats=True)\n",
       "      )\n",
       "    )\n",
       "    (1): BasicBlock(\n",
       "      (conv1): Conv2d(256, 256, kernel_size=(3, 3), stride=(1, 1), padding=(1, 1), bias=False)\n",
       "      (bn1): BatchNorm2d(256, eps=1e-05, momentum=0.1, affine=True, track_running_stats=True)\n",
       "      (relu): ReLU(inplace=True)\n",
       "      (conv2): Conv2d(256, 256, kernel_size=(3, 3), stride=(1, 1), padding=(1, 1), bias=False)\n",
       "      (bn2): BatchNorm2d(256, eps=1e-05, momentum=0.1, affine=True, track_running_stats=True)\n",
       "    )\n",
       "  )\n",
       "  (layer4): Sequential(\n",
       "    (0): BasicBlock(\n",
       "      (conv1): Conv2d(256, 512, kernel_size=(3, 3), stride=(2, 2), padding=(1, 1), bias=False)\n",
       "      (bn1): BatchNorm2d(512, eps=1e-05, momentum=0.1, affine=True, track_running_stats=True)\n",
       "      (relu): ReLU(inplace=True)\n",
       "      (conv2): Conv2d(512, 512, kernel_size=(3, 3), stride=(1, 1), padding=(1, 1), bias=False)\n",
       "      (bn2): BatchNorm2d(512, eps=1e-05, momentum=0.1, affine=True, track_running_stats=True)\n",
       "      (downsample): Sequential(\n",
       "        (0): Conv2d(256, 512, kernel_size=(1, 1), stride=(2, 2), bias=False)\n",
       "        (1): BatchNorm2d(512, eps=1e-05, momentum=0.1, affine=True, track_running_stats=True)\n",
       "      )\n",
       "    )\n",
       "    (1): BasicBlock(\n",
       "      (conv1): Conv2d(512, 512, kernel_size=(3, 3), stride=(1, 1), padding=(1, 1), bias=False)\n",
       "      (bn1): BatchNorm2d(512, eps=1e-05, momentum=0.1, affine=True, track_running_stats=True)\n",
       "      (relu): ReLU(inplace=True)\n",
       "      (conv2): Conv2d(512, 512, kernel_size=(3, 3), stride=(1, 1), padding=(1, 1), bias=False)\n",
       "      (bn2): BatchNorm2d(512, eps=1e-05, momentum=0.1, affine=True, track_running_stats=True)\n",
       "    )\n",
       "  )\n",
       "  (avgpool): AdaptiveAvgPool2d(output_size=(1, 1))\n",
       "  (fc): Linear(in_features=512, out_features=1000, bias=True)\n",
       ")"
      ]
     },
     "execution_count": 25,
     "metadata": {},
     "output_type": "execute_result"
    }
   ],
   "source": [
    "resnet18()"
   ]
  },
  {
   "cell_type": "code",
   "execution_count": 26,
   "metadata": {
    "hidden": true
   },
   "outputs": [],
   "source": [
    "custom_head = create_head(nf=512, n_out=2, lin_ftrs=[128], concat_pool=True)"
   ]
  },
  {
   "cell_type": "code",
   "execution_count": 27,
   "metadata": {
    "hidden": true
   },
   "outputs": [
    {
     "data": {
      "text/plain": [
       "Sequential(\n",
       "  (0): AdaptiveConcatPool2d(\n",
       "    (ap): AdaptiveAvgPool2d(output_size=1)\n",
       "    (mp): AdaptiveMaxPool2d(output_size=1)\n",
       "  )\n",
       "  (1): Flatten(full=False)\n",
       "  (2): BatchNorm1d(1024, eps=1e-05, momentum=0.1, affine=True, track_running_stats=True)\n",
       "  (3): Dropout(p=0.25, inplace=False)\n",
       "  (4): Linear(in_features=1024, out_features=128, bias=False)\n",
       "  (5): ReLU(inplace=True)\n",
       "  (6): BatchNorm1d(128, eps=1e-05, momentum=0.1, affine=True, track_running_stats=True)\n",
       "  (7): Dropout(p=0.5, inplace=False)\n",
       "  (8): Linear(in_features=128, out_features=2, bias=False)\n",
       ")"
      ]
     },
     "execution_count": 27,
     "metadata": {},
     "output_type": "execute_result"
    }
   ],
   "source": [
    "custom_head"
   ]
  },
  {
   "cell_type": "code",
   "execution_count": 28,
   "metadata": {
    "hidden": true
   },
   "outputs": [],
   "source": [
    "learn = vision_learner(dls,                             \n",
    "                arch=resnet18, pretrained=True,  \n",
    "                custom_head=custom_head,\n",
    "                wd=2e-4, ps=0.8,                    \n",
    "                metrics=[accuracy,                  \n",
    "                         F1Score(), \n",
    "                         Precision(), \n",
    "                         Recall(), \n",
    "                         RocAucBinary(), \n",
    "                         MatthewsCorrCoef()],\n",
    "                cbs=[ShowGraphCallback()])"
   ]
  },
  {
   "cell_type": "code",
   "execution_count": 29,
   "metadata": {
    "hidden": true
   },
   "outputs": [
    {
     "data": {
      "text/plain": [
       "Sequential(\n",
       "  (0): Sequential(\n",
       "    (0): Conv2d(3, 64, kernel_size=(7, 7), stride=(2, 2), padding=(3, 3), bias=False)\n",
       "    (1): BatchNorm2d(64, eps=1e-05, momentum=0.1, affine=True, track_running_stats=True)\n",
       "    (2): ReLU(inplace=True)\n",
       "    (3): MaxPool2d(kernel_size=3, stride=2, padding=1, dilation=1, ceil_mode=False)\n",
       "    (4): Sequential(\n",
       "      (0): BasicBlock(\n",
       "        (conv1): Conv2d(64, 64, kernel_size=(3, 3), stride=(1, 1), padding=(1, 1), bias=False)\n",
       "        (bn1): BatchNorm2d(64, eps=1e-05, momentum=0.1, affine=True, track_running_stats=True)\n",
       "        (relu): ReLU(inplace=True)\n",
       "        (conv2): Conv2d(64, 64, kernel_size=(3, 3), stride=(1, 1), padding=(1, 1), bias=False)\n",
       "        (bn2): BatchNorm2d(64, eps=1e-05, momentum=0.1, affine=True, track_running_stats=True)\n",
       "      )\n",
       "      (1): BasicBlock(\n",
       "        (conv1): Conv2d(64, 64, kernel_size=(3, 3), stride=(1, 1), padding=(1, 1), bias=False)\n",
       "        (bn1): BatchNorm2d(64, eps=1e-05, momentum=0.1, affine=True, track_running_stats=True)\n",
       "        (relu): ReLU(inplace=True)\n",
       "        (conv2): Conv2d(64, 64, kernel_size=(3, 3), stride=(1, 1), padding=(1, 1), bias=False)\n",
       "        (bn2): BatchNorm2d(64, eps=1e-05, momentum=0.1, affine=True, track_running_stats=True)\n",
       "      )\n",
       "    )\n",
       "    (5): Sequential(\n",
       "      (0): BasicBlock(\n",
       "        (conv1): Conv2d(64, 128, kernel_size=(3, 3), stride=(2, 2), padding=(1, 1), bias=False)\n",
       "        (bn1): BatchNorm2d(128, eps=1e-05, momentum=0.1, affine=True, track_running_stats=True)\n",
       "        (relu): ReLU(inplace=True)\n",
       "        (conv2): Conv2d(128, 128, kernel_size=(3, 3), stride=(1, 1), padding=(1, 1), bias=False)\n",
       "        (bn2): BatchNorm2d(128, eps=1e-05, momentum=0.1, affine=True, track_running_stats=True)\n",
       "        (downsample): Sequential(\n",
       "          (0): Conv2d(64, 128, kernel_size=(1, 1), stride=(2, 2), bias=False)\n",
       "          (1): BatchNorm2d(128, eps=1e-05, momentum=0.1, affine=True, track_running_stats=True)\n",
       "        )\n",
       "      )\n",
       "      (1): BasicBlock(\n",
       "        (conv1): Conv2d(128, 128, kernel_size=(3, 3), stride=(1, 1), padding=(1, 1), bias=False)\n",
       "        (bn1): BatchNorm2d(128, eps=1e-05, momentum=0.1, affine=True, track_running_stats=True)\n",
       "        (relu): ReLU(inplace=True)\n",
       "        (conv2): Conv2d(128, 128, kernel_size=(3, 3), stride=(1, 1), padding=(1, 1), bias=False)\n",
       "        (bn2): BatchNorm2d(128, eps=1e-05, momentum=0.1, affine=True, track_running_stats=True)\n",
       "      )\n",
       "    )\n",
       "    (6): Sequential(\n",
       "      (0): BasicBlock(\n",
       "        (conv1): Conv2d(128, 256, kernel_size=(3, 3), stride=(2, 2), padding=(1, 1), bias=False)\n",
       "        (bn1): BatchNorm2d(256, eps=1e-05, momentum=0.1, affine=True, track_running_stats=True)\n",
       "        (relu): ReLU(inplace=True)\n",
       "        (conv2): Conv2d(256, 256, kernel_size=(3, 3), stride=(1, 1), padding=(1, 1), bias=False)\n",
       "        (bn2): BatchNorm2d(256, eps=1e-05, momentum=0.1, affine=True, track_running_stats=True)\n",
       "        (downsample): Sequential(\n",
       "          (0): Conv2d(128, 256, kernel_size=(1, 1), stride=(2, 2), bias=False)\n",
       "          (1): BatchNorm2d(256, eps=1e-05, momentum=0.1, affine=True, track_running_stats=True)\n",
       "        )\n",
       "      )\n",
       "      (1): BasicBlock(\n",
       "        (conv1): Conv2d(256, 256, kernel_size=(3, 3), stride=(1, 1), padding=(1, 1), bias=False)\n",
       "        (bn1): BatchNorm2d(256, eps=1e-05, momentum=0.1, affine=True, track_running_stats=True)\n",
       "        (relu): ReLU(inplace=True)\n",
       "        (conv2): Conv2d(256, 256, kernel_size=(3, 3), stride=(1, 1), padding=(1, 1), bias=False)\n",
       "        (bn2): BatchNorm2d(256, eps=1e-05, momentum=0.1, affine=True, track_running_stats=True)\n",
       "      )\n",
       "    )\n",
       "    (7): Sequential(\n",
       "      (0): BasicBlock(\n",
       "        (conv1): Conv2d(256, 512, kernel_size=(3, 3), stride=(2, 2), padding=(1, 1), bias=False)\n",
       "        (bn1): BatchNorm2d(512, eps=1e-05, momentum=0.1, affine=True, track_running_stats=True)\n",
       "        (relu): ReLU(inplace=True)\n",
       "        (conv2): Conv2d(512, 512, kernel_size=(3, 3), stride=(1, 1), padding=(1, 1), bias=False)\n",
       "        (bn2): BatchNorm2d(512, eps=1e-05, momentum=0.1, affine=True, track_running_stats=True)\n",
       "        (downsample): Sequential(\n",
       "          (0): Conv2d(256, 512, kernel_size=(1, 1), stride=(2, 2), bias=False)\n",
       "          (1): BatchNorm2d(512, eps=1e-05, momentum=0.1, affine=True, track_running_stats=True)\n",
       "        )\n",
       "      )\n",
       "      (1): BasicBlock(\n",
       "        (conv1): Conv2d(512, 512, kernel_size=(3, 3), stride=(1, 1), padding=(1, 1), bias=False)\n",
       "        (bn1): BatchNorm2d(512, eps=1e-05, momentum=0.1, affine=True, track_running_stats=True)\n",
       "        (relu): ReLU(inplace=True)\n",
       "        (conv2): Conv2d(512, 512, kernel_size=(3, 3), stride=(1, 1), padding=(1, 1), bias=False)\n",
       "        (bn2): BatchNorm2d(512, eps=1e-05, momentum=0.1, affine=True, track_running_stats=True)\n",
       "      )\n",
       "    )\n",
       "  )\n",
       "  (1): Sequential(\n",
       "    (0): AdaptiveConcatPool2d(\n",
       "      (ap): AdaptiveAvgPool2d(output_size=1)\n",
       "      (mp): AdaptiveMaxPool2d(output_size=1)\n",
       "    )\n",
       "    (1): Flatten(full=False)\n",
       "    (2): BatchNorm1d(1024, eps=1e-05, momentum=0.1, affine=True, track_running_stats=True)\n",
       "    (3): Dropout(p=0.25, inplace=False)\n",
       "    (4): Linear(in_features=1024, out_features=128, bias=False)\n",
       "    (5): ReLU(inplace=True)\n",
       "    (6): BatchNorm1d(128, eps=1e-05, momentum=0.1, affine=True, track_running_stats=True)\n",
       "    (7): Dropout(p=0.5, inplace=False)\n",
       "    (8): Linear(in_features=128, out_features=2, bias=False)\n",
       "  )\n",
       ")"
      ]
     },
     "execution_count": 29,
     "metadata": {},
     "output_type": "execute_result"
    }
   ],
   "source": [
    "learn.model"
   ]
  },
  {
   "cell_type": "markdown",
   "metadata": {
    "hidden": true
   },
   "source": [
    "The below training takes a while. We can rather load the results of a previous run:"
   ]
  },
  {
   "cell_type": "code",
   "execution_count": null,
   "metadata": {
    "hidden": true
   },
   "outputs": [],
   "source": [
    "learn = learn.load('chembl1978-model-test-hooks')"
   ]
  },
  {
   "cell_type": "code",
   "execution_count": 30,
   "metadata": {
    "hidden": true
   },
   "outputs": [
    {
     "data": {
      "text/html": [
       "\n",
       "<style>\n",
       "    /* Turns off some styling */\n",
       "    progress {\n",
       "        /* gets rid of default border in Firefox and Opera. */\n",
       "        border: none;\n",
       "        /* Needs to be in here for Safari polyfill so background images work as expected. */\n",
       "        background-size: auto;\n",
       "    }\n",
       "    .progress-bar-interrupted, .progress-bar-interrupted::-webkit-progress-bar {\n",
       "        background: #F44336;\n",
       "    }\n",
       "</style>\n"
      ],
      "text/plain": [
       "<IPython.core.display.HTML object>"
      ]
     },
     "metadata": {},
     "output_type": "display_data"
    },
    {
     "data": {
      "text/html": [],
      "text/plain": [
       "<IPython.core.display.HTML object>"
      ]
     },
     "metadata": {},
     "output_type": "display_data"
    },
    {
     "data": {
      "image/png": "[encoded data removed]",
      "text/plain": [
       "<Figure size 432x288 with 1 Axes>"
      ]
     },
     "metadata": {
      "needs_background": "light"
     },
     "output_type": "display_data"
    }
   ],
   "source": [
    "lr = learn.lr_find()"
   ]
  },
  {
   "cell_type": "code",
   "execution_count": 31,
   "metadata": {
    "hidden": true
   },
   "outputs": [
    {
     "data": {
      "text/plain": [
       "0.002511886414140463"
      ]
     },
     "execution_count": 31,
     "metadata": {},
     "output_type": "execute_result"
    }
   ],
   "source": [
    "lr.valley"
   ]
  },
  {
   "cell_type": "code",
   "execution_count": 32,
   "metadata": {
    "hidden": true,
    "tags": []
   },
   "outputs": [
    {
     "data": {
      "text/html": [
       "\n",
       "<style>\n",
       "    /* Turns off some styling */\n",
       "    progress {\n",
       "        /* gets rid of default border in Firefox and Opera. */\n",
       "        border: none;\n",
       "        /* Needs to be in here for Safari polyfill so background images work as expected. */\n",
       "        background-size: auto;\n",
       "    }\n",
       "    .progress-bar-interrupted, .progress-bar-interrupted::-webkit-progress-bar {\n",
       "        background: #F44336;\n",
       "    }\n",
       "</style>\n"
      ],
      "text/plain": [
       "<IPython.core.display.HTML object>"
      ]
     },
     "metadata": {},
     "output_type": "display_data"
    },
    {
     "data": {
      "text/html": [
       "<table border=\"1\" class=\"dataframe\">\n",
       "  <thead>\n",
       "    <tr style=\"text-align: left;\">\n",
       "      <th>epoch</th>\n",
       "      <th>train_loss</th>\n",
       "      <th>valid_loss</th>\n",
       "      <th>accuracy</th>\n",
       "      <th>f1_score</th>\n",
       "      <th>precision_score</th>\n",
       "      <th>recall_score</th>\n",
       "      <th>roc_auc_score</th>\n",
       "      <th>matthews_corrcoef</th>\n",
       "      <th>time</th>\n",
       "    </tr>\n",
       "  </thead>\n",
       "  <tbody>\n",
       "    <tr>\n",
       "      <td>0</td>\n",
       "      <td>0.595412</td>\n",
       "      <td>0.386222</td>\n",
       "      <td>0.829040</td>\n",
       "      <td>0.484099</td>\n",
       "      <td>0.333333</td>\n",
       "      <td>0.883871</td>\n",
       "      <td>0.927304</td>\n",
       "      <td>0.475389</td>\n",
       "      <td>00:44</td>\n",
       "    </tr>\n",
       "    <tr>\n",
       "      <td>1</td>\n",
       "      <td>0.346069</td>\n",
       "      <td>0.266166</td>\n",
       "      <td>0.893443</td>\n",
       "      <td>0.616034</td>\n",
       "      <td>0.457680</td>\n",
       "      <td>0.941935</td>\n",
       "      <td>0.962466</td>\n",
       "      <td>0.612160</td>\n",
       "      <td>00:43</td>\n",
       "    </tr>\n",
       "    <tr>\n",
       "      <td>2</td>\n",
       "      <td>0.240827</td>\n",
       "      <td>0.217454</td>\n",
       "      <td>0.915691</td>\n",
       "      <td>0.661972</td>\n",
       "      <td>0.520295</td>\n",
       "      <td>0.909677</td>\n",
       "      <td>0.968332</td>\n",
       "      <td>0.649385</td>\n",
       "      <td>00:43</td>\n",
       "    </tr>\n",
       "    <tr>\n",
       "      <td>3</td>\n",
       "      <td>0.195398</td>\n",
       "      <td>0.168734</td>\n",
       "      <td>0.943794</td>\n",
       "      <td>0.734807</td>\n",
       "      <td>0.642512</td>\n",
       "      <td>0.858065</td>\n",
       "      <td>0.968947</td>\n",
       "      <td>0.713318</td>\n",
       "      <td>00:43</td>\n",
       "    </tr>\n",
       "    <tr>\n",
       "      <td>4</td>\n",
       "      <td>0.150659</td>\n",
       "      <td>0.123840</td>\n",
       "      <td>0.960187</td>\n",
       "      <td>0.806818</td>\n",
       "      <td>0.720812</td>\n",
       "      <td>0.916129</td>\n",
       "      <td>0.976520</td>\n",
       "      <td>0.791992</td>\n",
       "      <td>00:43</td>\n",
       "    </tr>\n",
       "    <tr>\n",
       "      <td>5</td>\n",
       "      <td>0.128720</td>\n",
       "      <td>0.142449</td>\n",
       "      <td>0.953162</td>\n",
       "      <td>0.777778</td>\n",
       "      <td>0.682927</td>\n",
       "      <td>0.903226</td>\n",
       "      <td>0.975639</td>\n",
       "      <td>0.761352</td>\n",
       "      <td>00:43</td>\n",
       "    </tr>\n",
       "    <tr>\n",
       "      <td>6</td>\n",
       "      <td>0.126057</td>\n",
       "      <td>0.109264</td>\n",
       "      <td>0.964286</td>\n",
       "      <td>0.821114</td>\n",
       "      <td>0.752688</td>\n",
       "      <td>0.903226</td>\n",
       "      <td>0.979233</td>\n",
       "      <td>0.805570</td>\n",
       "      <td>00:43</td>\n",
       "    </tr>\n",
       "    <tr>\n",
       "      <td>7</td>\n",
       "      <td>0.118370</td>\n",
       "      <td>0.120417</td>\n",
       "      <td>0.963700</td>\n",
       "      <td>0.820809</td>\n",
       "      <td>0.743455</td>\n",
       "      <td>0.916129</td>\n",
       "      <td>0.978502</td>\n",
       "      <td>0.806265</td>\n",
       "      <td>00:43</td>\n",
       "    </tr>\n",
       "    <tr>\n",
       "      <td>8</td>\n",
       "      <td>0.095689</td>\n",
       "      <td>0.101334</td>\n",
       "      <td>0.968384</td>\n",
       "      <td>0.842105</td>\n",
       "      <td>0.770053</td>\n",
       "      <td>0.929032</td>\n",
       "      <td>0.981480</td>\n",
       "      <td>0.829195</td>\n",
       "      <td>00:43</td>\n",
       "    </tr>\n",
       "    <tr>\n",
       "      <td>9</td>\n",
       "      <td>0.091053</td>\n",
       "      <td>0.099678</td>\n",
       "      <td>0.969555</td>\n",
       "      <td>0.846154</td>\n",
       "      <td>0.781421</td>\n",
       "      <td>0.922581</td>\n",
       "      <td>0.982290</td>\n",
       "      <td>0.832911</td>\n",
       "      <td>00:43</td>\n",
       "    </tr>\n",
       "    <tr>\n",
       "      <td>10</td>\n",
       "      <td>0.086520</td>\n",
       "      <td>0.105085</td>\n",
       "      <td>0.972482</td>\n",
       "      <td>0.858859</td>\n",
       "      <td>0.803371</td>\n",
       "      <td>0.922581</td>\n",
       "      <td>0.981102</td>\n",
       "      <td>0.846173</td>\n",
       "      <td>00:43</td>\n",
       "    </tr>\n",
       "    <tr>\n",
       "      <td>11</td>\n",
       "      <td>0.071558</td>\n",
       "      <td>0.118058</td>\n",
       "      <td>0.967213</td>\n",
       "      <td>0.839080</td>\n",
       "      <td>0.756477</td>\n",
       "      <td>0.941935</td>\n",
       "      <td>0.981393</td>\n",
       "      <td>0.827189</td>\n",
       "      <td>00:43</td>\n",
       "    </tr>\n",
       "    <tr>\n",
       "      <td>12</td>\n",
       "      <td>0.071125</td>\n",
       "      <td>0.108714</td>\n",
       "      <td>0.972482</td>\n",
       "      <td>0.859701</td>\n",
       "      <td>0.800000</td>\n",
       "      <td>0.929032</td>\n",
       "      <td>0.981002</td>\n",
       "      <td>0.847443</td>\n",
       "      <td>00:43</td>\n",
       "    </tr>\n",
       "    <tr>\n",
       "      <td>13</td>\n",
       "      <td>0.072525</td>\n",
       "      <td>0.102426</td>\n",
       "      <td>0.972482</td>\n",
       "      <td>0.858859</td>\n",
       "      <td>0.803371</td>\n",
       "      <td>0.922581</td>\n",
       "      <td>0.981289</td>\n",
       "      <td>0.846173</td>\n",
       "      <td>00:43</td>\n",
       "    </tr>\n",
       "    <tr>\n",
       "      <td>14</td>\n",
       "      <td>0.075958</td>\n",
       "      <td>0.112101</td>\n",
       "      <td>0.970141</td>\n",
       "      <td>0.849558</td>\n",
       "      <td>0.782609</td>\n",
       "      <td>0.929032</td>\n",
       "      <td>0.981096</td>\n",
       "      <td>0.836894</td>\n",
       "      <td>00:43</td>\n",
       "    </tr>\n",
       "  </tbody>\n",
       "</table>"
      ],
      "text/plain": [
       "<IPython.core.display.HTML object>"
      ]
     },
     "metadata": {},
     "output_type": "display_data"
    },
    {
     "data": {
      "image/png": "[encoded data removed]",
      "text/plain": [
       "<Figure size 432x288 with 1 Axes>"
      ]
     },
     "metadata": {},
     "output_type": "display_data"
    }
   ],
   "source": [
    "learn.fit_one_cycle(15, slice(lr.valley))"
   ]
  },
  {
   "cell_type": "code",
   "execution_count": 33,
   "metadata": {
    "hidden": true
   },
   "outputs": [
    {
     "data": {
      "image/png": "[encoded data removed]",
      "text/plain": [
       "<Figure size 1728x576 with 8 Axes>"
      ]
     },
     "metadata": {
      "needs_background": "light"
     },
     "output_type": "display_data"
    }
   ],
   "source": [
    "learn.recorder.plot_metrics()"
   ]
  },
  {
   "cell_type": "code",
   "execution_count": 34,
   "metadata": {
    "hidden": true
   },
   "outputs": [
    {
     "data": {
      "text/plain": [
       "Path('models/chembl1978-model-test-hooks.pth')"
      ]
     },
     "execution_count": 34,
     "metadata": {},
     "output_type": "execute_result"
    }
   ],
   "source": [
    "#learn.save('chembl1978-model-test-hooks')"
   ]
  },
  {
   "cell_type": "markdown",
   "metadata": {
    "heading_collapsed": true,
    "hidden": true
   },
   "source": [
    "### Evaluate"
   ]
  },
  {
   "cell_type": "code",
   "execution_count": 35,
   "metadata": {
    "hidden": true
   },
   "outputs": [
    {
     "data": {
      "text/html": [
       "\n",
       "<style>\n",
       "    /* Turns off some styling */\n",
       "    progress {\n",
       "        /* gets rid of default border in Firefox and Opera. */\n",
       "        border: none;\n",
       "        /* Needs to be in here for Safari polyfill so background images work as expected. */\n",
       "        background-size: auto;\n",
       "    }\n",
       "    .progress-bar-interrupted, .progress-bar-interrupted::-webkit-progress-bar {\n",
       "        background: #F44336;\n",
       "    }\n",
       "</style>\n"
      ],
      "text/plain": [
       "<IPython.core.display.HTML object>"
      ]
     },
     "metadata": {},
     "output_type": "display_data"
    },
    {
     "data": {
      "text/html": [],
      "text/plain": [
       "<IPython.core.display.HTML object>"
      ]
     },
     "metadata": {},
     "output_type": "display_data"
    }
   ],
   "source": [
    "interp = ClassificationInterpretation.from_learner(learn)"
   ]
  },
  {
   "cell_type": "code",
   "execution_count": 36,
   "metadata": {
    "hidden": true
   },
   "outputs": [
    {
     "data": {
      "text/html": [
       "\n",
       "<style>\n",
       "    /* Turns off some styling */\n",
       "    progress {\n",
       "        /* gets rid of default border in Firefox and Opera. */\n",
       "        border: none;\n",
       "        /* Needs to be in here for Safari polyfill so background images work as expected. */\n",
       "        background-size: auto;\n",
       "    }\n",
       "    .progress-bar-interrupted, .progress-bar-interrupted::-webkit-progress-bar {\n",
       "        background: #F44336;\n",
       "    }\n",
       "</style>\n"
      ],
      "text/plain": [
       "<IPython.core.display.HTML object>"
      ]
     },
     "metadata": {},
     "output_type": "display_data"
    },
    {
     "data": {
      "text/html": [],
      "text/plain": [
       "<IPython.core.display.HTML object>"
      ]
     },
     "metadata": {},
     "output_type": "display_data"
    },
    {
     "data": {
      "image/png": "[encoded data removed]",
      "text/plain": [
       "<Figure size 432x288 with 1 Axes>"
      ]
     },
     "metadata": {
      "needs_background": "light"
     },
     "output_type": "display_data"
    }
   ],
   "source": [
    "interp.plot_confusion_matrix()"
   ]
  },
  {
   "cell_type": "markdown",
   "metadata": {
    "heading_collapsed": true
   },
   "source": [
    "# Save activations \n",
    "\n",
    "from second final layer. To be used to train a different ML model."
   ]
  },
  {
   "cell_type": "markdown",
   "metadata": {
    "hidden": true
   },
   "source": [
    "We need to register a **forward hook** at the layer we want to save activations from:"
   ]
  },
  {
   "cell_type": "code",
   "execution_count": 37,
   "metadata": {
    "hidden": true
   },
   "outputs": [],
   "source": [
    "class Hook():\n",
    "    def hook_func(self, m, i, o): self.stored = o.detach().clone()"
   ]
  },
  {
   "cell_type": "code",
   "execution_count": 38,
   "metadata": {
    "hidden": true
   },
   "outputs": [
    {
     "data": {
      "text/plain": [
       "Linear(in_features=1024, out_features=128, bias=False)"
      ]
     },
     "execution_count": 38,
     "metadata": {},
     "output_type": "execute_result"
    }
   ],
   "source": [
    "learn.model[-1][-5]"
   ]
  },
  {
   "cell_type": "code",
   "execution_count": 39,
   "metadata": {
    "hidden": true
   },
   "outputs": [],
   "source": [
    "hook_output = Hook()\n",
    "hook = learn.model[-1][-5].register_forward_hook(hook_output.hook_func)"
   ]
  },
  {
   "cell_type": "markdown",
   "metadata": {
    "hidden": true
   },
   "source": [
    "Create the df again, this time with no oversampling (as that's not necessary)."
   ]
  },
  {
   "cell_type": "code",
   "execution_count": 40,
   "metadata": {
    "hidden": true
   },
   "outputs": [],
   "source": [
    "df, name = get_df(ds)\n",
    "\n",
    "df_nodupl = val_cols_and_oversample(df, oversample=False)"
   ]
  },
  {
   "cell_type": "markdown",
   "metadata": {
    "hidden": true
   },
   "source": [
    "No data augmentation:"
   ]
  },
  {
   "cell_type": "code",
   "execution_count": 41,
   "metadata": {
    "hidden": true
   },
   "outputs": [],
   "source": [
    "test_db = DataBlock(\n",
    "    blocks=(ImageBlock(), CategoryBlock()),\n",
    "    get_x=ColReader('Image', pref=IMGDATA/name),\n",
    "    get_y=ColReader('Activity'),\n",
    "    splitter=RandomSplitter(valid_pct=0.),\n",
    "    item_tfms=None,\n",
    "    batch_tfms=None\n",
    "    )"
   ]
  },
  {
   "cell_type": "markdown",
   "metadata": {
    "hidden": true
   },
   "source": [
    "We can feed one image at a time throught the model to get the activations"
   ]
  },
  {
   "cell_type": "code",
   "execution_count": 42,
   "metadata": {
    "hidden": true
   },
   "outputs": [],
   "source": [
    "test_dls = test_db.dataloaders(df_nodupl, bs=1)"
   ]
  },
  {
   "cell_type": "code",
   "execution_count": 43,
   "metadata": {
    "hidden": true
   },
   "outputs": [],
   "source": [
    "test_df = test_dls.items.reset_index()"
   ]
  },
  {
   "cell_type": "code",
   "execution_count": 44,
   "metadata": {
    "hidden": true
   },
   "outputs": [
    {
     "data": {
      "text/html": [
       "<div>\n",
       "<style scoped>\n",
       "    .dataframe tbody tr th:only-of-type {\n",
       "        vertical-align: middle;\n",
       "    }\n",
       "\n",
       "    .dataframe tbody tr th {\n",
       "        vertical-align: top;\n",
       "    }\n",
       "\n",
       "    .dataframe thead th {\n",
       "        text-align: right;\n",
       "    }\n",
       "</style>\n",
       "<table border=\"1\" class=\"dataframe\">\n",
       "  <thead>\n",
       "    <tr style=\"text-align: right;\">\n",
       "      <th></th>\n",
       "      <th>index</th>\n",
       "      <th>CID</th>\n",
       "      <th>SMILES</th>\n",
       "      <th>Image</th>\n",
       "      <th>Activity</th>\n",
       "      <th>is_valid</th>\n",
       "    </tr>\n",
       "  </thead>\n",
       "  <tbody>\n",
       "    <tr>\n",
       "      <th>0</th>\n",
       "      <td>3754</td>\n",
       "      <td>CHEMBL1099326</td>\n",
       "      <td>O(CCCC(=O)[O-])c1cccc(CCCCCCOc2cc(cc(c2)-c2ccncc2)-c2ccncc2)c1CCC(=O)[O-]</td>\n",
       "      <td>CHEMBL1099326.png</td>\n",
       "      <td>0</td>\n",
       "      <td>False</td>\n",
       "    </tr>\n",
       "    <tr>\n",
       "      <th>1</th>\n",
       "      <td>5869</td>\n",
       "      <td>CHEMBL72290</td>\n",
       "      <td>Clc1cc2-n3c(nnc3CC)C(=Nc2cc1)N(CC)CC</td>\n",
       "      <td>CHEMBL72290.png</td>\n",
       "      <td>0</td>\n",
       "      <td>True</td>\n",
       "    </tr>\n",
       "    <tr>\n",
       "      <th>2</th>\n",
       "      <td>5368</td>\n",
       "      <td>CHEMBL1669571</td>\n",
       "      <td>Clc1cnc(N2CC[NH+](CC2)Cc2cn[nH]c2)cc1C(=O)Nc1cc-2c(CCc3c-2n(nc3C(=O)N)-c2ccc(F)cc2)cc1</td>\n",
       "      <td>CHEMBL1669571.png</td>\n",
       "      <td>0</td>\n",
       "      <td>False</td>\n",
       "    </tr>\n",
       "    <tr>\n",
       "      <th>3</th>\n",
       "      <td>4131</td>\n",
       "      <td>CHEMBL162000</td>\n",
       "      <td>O(C)c1ccc(cc1)C(=O)Nc1ncnc(c1)-c1ccccc1</td>\n",
       "      <td>CHEMBL162000.png</td>\n",
       "      <td>0</td>\n",
       "      <td>True</td>\n",
       "    </tr>\n",
       "    <tr>\n",
       "      <th>4</th>\n",
       "      <td>979</td>\n",
       "      <td>CHEMBL289867</td>\n",
       "      <td>s1c2C3C([NH2+]Cc2cc1CCCC)CCc1cc(O)c(O)cc13</td>\n",
       "      <td>CHEMBL289867.png</td>\n",
       "      <td>0</td>\n",
       "      <td>False</td>\n",
       "    </tr>\n",
       "  </tbody>\n",
       "</table>\n",
       "</div>"
      ],
      "text/plain": [
       "   index            CID  \\\n",
       "0   3754  CHEMBL1099326   \n",
       "1   5869    CHEMBL72290   \n",
       "2   5368  CHEMBL1669571   \n",
       "3   4131   CHEMBL162000   \n",
       "4    979   CHEMBL289867   \n",
       "\n",
       "                                                                                   SMILES  \\\n",
       "0               O(CCCC(=O)[O-])c1cccc(CCCCCCOc2cc(cc(c2)-c2ccncc2)-c2ccncc2)c1CCC(=O)[O-]   \n",
       "1                                                    Clc1cc2-n3c(nnc3CC)C(=Nc2cc1)N(CC)CC   \n",
       "2  Clc1cnc(N2CC[NH+](CC2)Cc2cn[nH]c2)cc1C(=O)Nc1cc-2c(CCc3c-2n(nc3C(=O)N)-c2ccc(F)cc2)cc1   \n",
       "3                                                 O(C)c1ccc(cc1)C(=O)Nc1ncnc(c1)-c1ccccc1   \n",
       "4                                              s1c2C3C([NH2+]Cc2cc1CCCC)CCc1cc(O)c(O)cc13   \n",
       "\n",
       "               Image  Activity is_valid  \n",
       "0  CHEMBL1099326.png         0    False  \n",
       "1    CHEMBL72290.png         0     True  \n",
       "2  CHEMBL1669571.png         0    False  \n",
       "3   CHEMBL162000.png         0     True  \n",
       "4   CHEMBL289867.png         0    False  "
      ]
     },
     "execution_count": 44,
     "metadata": {},
     "output_type": "execute_result"
    }
   ],
   "source": [
    "test_df.head()"
   ]
  },
  {
   "cell_type": "markdown",
   "metadata": {
    "hidden": true
   },
   "source": [
    "Each element of the dataset consists of an image (a `PILImage`) and a category (the corresponding activity label):"
   ]
  },
  {
   "cell_type": "code",
   "execution_count": 45,
   "metadata": {
    "hidden": true
   },
   "outputs": [
    {
     "data": {
      "text/plain": [
       "(PILImage mode=RGB size=500x500, TensorCategory(0))"
      ]
     },
     "execution_count": 45,
     "metadata": {},
     "output_type": "execute_result"
    }
   ],
   "source": [
    "test_dls.dataset[0]"
   ]
  },
  {
   "cell_type": "code",
   "execution_count": 46,
   "metadata": {
    "hidden": true
   },
   "outputs": [
    {
     "data": {
      "image/png": "[encoded data removed]",
      "text/plain": [
       "PILImage mode=RGB size=500x500"
      ]
     },
     "execution_count": 46,
     "metadata": {},
     "output_type": "execute_result"
    }
   ],
   "source": [
    "test_dls.dataset[0][0]"
   ]
  },
  {
   "cell_type": "code",
   "execution_count": 47,
   "metadata": {
    "hidden": true
   },
   "outputs": [],
   "source": [
    "def get_data(CID):\n",
    "    idx = test_df.loc[test_df.CID==CID].index[0]\n",
    "    print(idx)\n",
    "    return test_dls.dataset[idx]"
   ]
  },
  {
   "cell_type": "code",
   "execution_count": 48,
   "metadata": {
    "hidden": true
   },
   "outputs": [],
   "source": [
    "def get_activations(CID):\n",
    "    idx = df_nodupl.loc[df_nodupl.CID == CID].index[0]\n",
    "    data = get_data(CID)\n",
    "    img = data[0]\n",
    "    \n",
    "    with torch.no_grad(): \n",
    "        output = learn.predict(img)\n",
    "    acts = np.array(hook_output.stored.cpu())[0]\n",
    "\n",
    "    return list(acts)"
   ]
  },
  {
   "cell_type": "markdown",
   "metadata": {
    "hidden": true
   },
   "source": [
    "The below computation takes a while.. We can rather load results computed earlier:"
   ]
  },
  {
   "cell_type": "code",
   "execution_count": 49,
   "metadata": {
    "hidden": true
   },
   "outputs": [],
   "source": [
    "df_acts = pd.read_csv('data/chembl1978_cnn_activations.csv')"
   ]
  },
  {
   "cell_type": "code",
   "execution_count": 50,
   "metadata": {
    "hidden": true
   },
   "outputs": [
    {
     "name": "stdout",
     "output_type": "stream",
     "text": [
      "CPU times: user 56min 26s, sys: 3min 1s, total: 59min 28s\n",
      "Wall time: 2min 58s\n"
     ]
    }
   ],
   "source": [
    "%%time\n",
    "%%capture\n",
    "df_nodupl['activations'] = df_nodupl.CID.apply(get_activations)"
   ]
  },
  {
   "cell_type": "markdown",
   "metadata": {
    "hidden": true
   },
   "source": [
    "Now we've stored activations for each image:"
   ]
  },
  {
   "cell_type": "code",
   "execution_count": 51,
   "metadata": {
    "hidden": true
   },
   "outputs": [
    {
     "data": {
      "text/html": [
       "<div>\n",
       "<style scoped>\n",
       "    .dataframe tbody tr th:only-of-type {\n",
       "        vertical-align: middle;\n",
       "    }\n",
       "\n",
       "    .dataframe tbody tr th {\n",
       "        vertical-align: top;\n",
       "    }\n",
       "\n",
       "    .dataframe thead th {\n",
       "        text-align: right;\n",
       "    }\n",
       "</style>\n",
       "<table border=\"1\" class=\"dataframe\">\n",
       "  <thead>\n",
       "    <tr style=\"text-align: right;\">\n",
       "      <th></th>\n",
       "      <th>CID</th>\n",
       "      <th>SMILES</th>\n",
       "      <th>Image</th>\n",
       "      <th>Activity</th>\n",
       "      <th>is_valid</th>\n",
       "      <th>activations</th>\n",
       "    </tr>\n",
       "  </thead>\n",
       "  <tbody>\n",
       "    <tr>\n",
       "      <th>0</th>\n",
       "      <td>CHEMBL1454842</td>\n",
       "      <td>s1nc(nc1-c1ccncc1)-c1ccncc1</td>\n",
       "      <td>CHEMBL1454842.png</td>\n",
       "      <td>1</td>\n",
       "      <td>True</td>\n",
       "      <td>[-4.53223, 1.2242482, 1.9664226, -8.38185, -4.273423, 1.6188779, 3.7000856, 1.9149464, -0.5070727, -1.7810575, -1.0826144, 3.7163599, -3.6440969, -2.821131, -1.6827817, 1.4073136, 10.514254, 2.9001305, 9.069101, 0.62642336, 1.4808394, -0.43103516, 0.51418424, 5.476626, 5.684493, 1.4106046, -4.502261, -0.041307926, -4.277829, 7.254024, -2.5529473, -4.70026, -3.9301422, 3.6659029, 2.6201236, 4.127348, 0.6816625, -8.893678, -5.2777257, 14.204137, 11.411678, 6.9298425, 5.9012594, 7.9898434, -5.566207, 5.7564917, -0.21323794, -8.678903, 1.5133169, 2.8930807, 3.1604161, -2.8626711, -0.5543872, 1...</td>\n",
       "    </tr>\n",
       "    <tr>\n",
       "      <th>1</th>\n",
       "      <td>CHEMBL1939366</td>\n",
       "      <td>s1nc(nc1-c1cccnc1)-c1cccnc1</td>\n",
       "      <td>CHEMBL1939366.png</td>\n",
       "      <td>1</td>\n",
       "      <td>False</td>\n",
       "      <td>[-1.8085067, -4.563689, 5.8950977, -10.517269, -1.1766489, -2.424201, 1.5980039, 1.5070074, -0.47416982, 1.2013993, 1.4520941, 2.881032, -0.7297743, 1.7631106, -3.9904108, -0.7238305, 13.878513, 1.5754188, 10.091096, -0.14215557, -0.5309795, -0.09478608, -0.29546154, 5.6839347, 5.9349084, -1.4218488, -3.0453534, -3.5025253, -1.8201551, 7.0253, 2.1401703, -7.2793655, -1.3667877, 2.7091825, 0.65315354, 6.714842, 1.1927533, -5.495879, -4.1608295, 13.203564, 11.545866, 6.9664016, 5.035795, 5.318619, -6.6456337, -0.137097, -1.8969784, -2.4927802, 4.462484, -1.902673, 6.086036, 0.34105992, -1.03...</td>\n",
       "    </tr>\n",
       "    <tr>\n",
       "      <th>2</th>\n",
       "      <td>CHEMBL192155</td>\n",
       "      <td>s1cncc1\\C=C\\1/CCc2cc(OC)ccc/12</td>\n",
       "      <td>CHEMBL192155.png</td>\n",
       "      <td>1</td>\n",
       "      <td>True</td>\n",
       "      <td>[-8.560979, 0.8466887, 0.04911995, -1.3273535, -7.7300177, 4.565922, -4.1915846, -1.764997, -2.5185494, -2.457241, -10.590738, -2.644333, -1.7243022, 1.6650659, 1.6540964, -7.8155947, 6.8335743, 1.4190893, 7.996589, -1.0538796, -4.3098564, -11.66593, -0.06596339, 1.997009, 2.3858044, 0.99863046, -5.3724327, -0.2871377, -5.553808, 5.2316265, 1.0553379, 2.0277297, 0.7701553, -7.7753677, 3.348153, 2.719956, 0.94390154, -8.071663, -2.2701035, 4.3410068, 3.6034, 0.043355584, -0.18587643, 7.4026394, -7.6462984, 3.3223839, -0.1927008, -0.844993, 3.898232, 5.4499264, 6.1207914, -0.5805237, -5.3426...</td>\n",
       "    </tr>\n",
       "    <tr>\n",
       "      <th>3</th>\n",
       "      <td>CHEMBL517816</td>\n",
       "      <td>s1cccc1CN(n1ncnc1)Cc1ccc(cc1)C(C)(C)C</td>\n",
       "      <td>CHEMBL517816.png</td>\n",
       "      <td>1</td>\n",
       "      <td>False</td>\n",
       "      <td>[-5.60823, -2.2384725, -7.5115576, -10.029954, -2.4023404, 0.27814567, -3.1740134, -3.020409, -2.2920034, -0.7895498, -4.192891, -0.6451576, 0.66397333, 11.179311, 0.54573524, -0.5670787, 9.897324, 4.229731, 8.87864, 0.5055133, -4.521607, -6.607569, 4.98999, 4.6932096, 3.4797068, 0.9627744, -3.2298226, -2.092463, -6.479858, -2.9965525, 12.497225, 4.777813, -2.0509143, -3.8167362, -1.8357153, 8.385421, -0.22200036, -2.094059, -6.2205443, 7.7447834, 6.577692, 7.643581, 8.925291, 5.0250587, -13.838637, 3.6536374, 0.96409047, -3.661319, 7.368491, 5.257421, 7.520189, 8.033947, -1.2555246, -0.80...</td>\n",
       "    </tr>\n",
       "    <tr>\n",
       "      <th>4</th>\n",
       "      <td>CHEMBL523973</td>\n",
       "      <td>s1cccc1CN(n1ccnc1)Cc1ccc(cc1)C(C)(C)C</td>\n",
       "      <td>CHEMBL523973.png</td>\n",
       "      <td>1</td>\n",
       "      <td>False</td>\n",
       "      <td>[-8.388573, -0.21037412, -9.306, -9.646712, -0.5238982, 1.3715866, -2.346459, -0.06696236, -0.6317121, 0.88646007, -3.4741669, -2.2147894, -2.4929113, 10.022305, -0.29252034, -1.857451, 11.069161, 4.3911877, 11.498993, 1.0456141, -2.0607042, -4.582257, 2.8146815, 7.6149855, 5.019865, 1.7000593, -2.2824886, -0.91600585, -8.482963, -1.1804818, 8.996607, 4.9881926, -3.9486828, -4.4946012, -1.2531947, 9.618689, 2.6391692, 0.09990281, -1.6731544, 8.284986, 7.0007343, 7.290529, 8.571828, 7.06732, -14.190914, 0.7056502, 1.7662197, -7.4479322, 5.726438, 6.7614393, 7.577806, 6.3227415, 0.18382734, ...</td>\n",
       "    </tr>\n",
       "  </tbody>\n",
       "</table>\n",
       "</div>"
      ],
      "text/plain": [
       "             CID                                 SMILES              Image  \\\n",
       "0  CHEMBL1454842            s1nc(nc1-c1ccncc1)-c1ccncc1  CHEMBL1454842.png   \n",
       "1  CHEMBL1939366            s1nc(nc1-c1cccnc1)-c1cccnc1  CHEMBL1939366.png   \n",
       "2   CHEMBL192155         s1cncc1\\C=C\\1/CCc2cc(OC)ccc/12   CHEMBL192155.png   \n",
       "3   CHEMBL517816  s1cccc1CN(n1ncnc1)Cc1ccc(cc1)C(C)(C)C   CHEMBL517816.png   \n",
       "4   CHEMBL523973  s1cccc1CN(n1ccnc1)Cc1ccc(cc1)C(C)(C)C   CHEMBL523973.png   \n",
       "\n",
       "   Activity is_valid  \\\n",
       "0         1     True   \n",
       "1         1    False   \n",
       "2         1     True   \n",
       "3         1    False   \n",
       "4         1    False   \n",
       "\n",
       "                                                                                                                                                                                                                                                                                                                                                                                                                                                                                                                                                                                                               activations  \n",
       "0  [-4.53223, 1.2242482, 1.9664226, -8.38185, -4.273423, 1.6188779, 3.7000856, 1.9149464, -0.5070727, -1.7810575, -1.0826144, 3.7163599, -3.6440969, -2.821131, -1.6827817, 1.4073136, 10.514254, 2.9001305, 9.069101, 0.62642336, 1.4808394, -0.43103516, 0.51418424, 5.476626, 5.684493, 1.4106046, -4.502261, -0.041307926, -4.277829, 7.254024, -2.5529473, -4.70026, -3.9301422, 3.6659029, 2.6201236, 4.127348, 0.6816625, -8.893678, -5.2777257, 14.204137, 11.411678, 6.9298425, 5.9012594, 7.9898434, -5.566207, 5.7564917, -0.21323794, -8.678903, 1.5133169, 2.8930807, 3.1604161, -2.8626711, -0.5543872, 1...  \n",
       "1  [-1.8085067, -4.563689, 5.8950977, -10.517269, -1.1766489, -2.424201, 1.5980039, 1.5070074, -0.47416982, 1.2013993, 1.4520941, 2.881032, -0.7297743, 1.7631106, -3.9904108, -0.7238305, 13.878513, 1.5754188, 10.091096, -0.14215557, -0.5309795, -0.09478608, -0.29546154, 5.6839347, 5.9349084, -1.4218488, -3.0453534, -3.5025253, -1.8201551, 7.0253, 2.1401703, -7.2793655, -1.3667877, 2.7091825, 0.65315354, 6.714842, 1.1927533, -5.495879, -4.1608295, 13.203564, 11.545866, 6.9664016, 5.035795, 5.318619, -6.6456337, -0.137097, -1.8969784, -2.4927802, 4.462484, -1.902673, 6.086036, 0.34105992, -1.03...  \n",
       "2  [-8.560979, 0.8466887, 0.04911995, -1.3273535, -7.7300177, 4.565922, -4.1915846, -1.764997, -2.5185494, -2.457241, -10.590738, -2.644333, -1.7243022, 1.6650659, 1.6540964, -7.8155947, 6.8335743, 1.4190893, 7.996589, -1.0538796, -4.3098564, -11.66593, -0.06596339, 1.997009, 2.3858044, 0.99863046, -5.3724327, -0.2871377, -5.553808, 5.2316265, 1.0553379, 2.0277297, 0.7701553, -7.7753677, 3.348153, 2.719956, 0.94390154, -8.071663, -2.2701035, 4.3410068, 3.6034, 0.043355584, -0.18587643, 7.4026394, -7.6462984, 3.3223839, -0.1927008, -0.844993, 3.898232, 5.4499264, 6.1207914, -0.5805237, -5.3426...  \n",
       "3  [-5.60823, -2.2384725, -7.5115576, -10.029954, -2.4023404, 0.27814567, -3.1740134, -3.020409, -2.2920034, -0.7895498, -4.192891, -0.6451576, 0.66397333, 11.179311, 0.54573524, -0.5670787, 9.897324, 4.229731, 8.87864, 0.5055133, -4.521607, -6.607569, 4.98999, 4.6932096, 3.4797068, 0.9627744, -3.2298226, -2.092463, -6.479858, -2.9965525, 12.497225, 4.777813, -2.0509143, -3.8167362, -1.8357153, 8.385421, -0.22200036, -2.094059, -6.2205443, 7.7447834, 6.577692, 7.643581, 8.925291, 5.0250587, -13.838637, 3.6536374, 0.96409047, -3.661319, 7.368491, 5.257421, 7.520189, 8.033947, -1.2555246, -0.80...  \n",
       "4  [-8.388573, -0.21037412, -9.306, -9.646712, -0.5238982, 1.3715866, -2.346459, -0.06696236, -0.6317121, 0.88646007, -3.4741669, -2.2147894, -2.4929113, 10.022305, -0.29252034, -1.857451, 11.069161, 4.3911877, 11.498993, 1.0456141, -2.0607042, -4.582257, 2.8146815, 7.6149855, 5.019865, 1.7000593, -2.2824886, -0.91600585, -8.482963, -1.1804818, 8.996607, 4.9881926, -3.9486828, -4.4946012, -1.2531947, 9.618689, 2.6391692, 0.09990281, -1.6731544, 8.284986, 7.0007343, 7.290529, 8.571828, 7.06732, -14.190914, 0.7056502, 1.7662197, -7.4479322, 5.726438, 6.7614393, 7.577806, 6.3227415, 0.18382734, ...  "
      ]
     },
     "execution_count": 51,
     "metadata": {},
     "output_type": "execute_result"
    }
   ],
   "source": [
    "df_nodupl.head()"
   ]
  },
  {
   "cell_type": "markdown",
   "metadata": {
    "hidden": true
   },
   "source": [
    "We split the activations to have one column for each, as they will be treated as separate features later:"
   ]
  },
  {
   "cell_type": "code",
   "execution_count": 52,
   "metadata": {
    "hidden": true
   },
   "outputs": [],
   "source": [
    "df_acts = pd.concat([df_nodupl, pd.DataFrame(df_nodupl.activations.values.tolist()).add_prefix('act_')], axis=1)"
   ]
  },
  {
   "cell_type": "code",
   "execution_count": 53,
   "metadata": {
    "hidden": true
   },
   "outputs": [],
   "source": [
    "df_acts.drop('activations', axis=1, inplace=True)"
   ]
  },
  {
   "cell_type": "markdown",
   "metadata": {
    "hidden": true
   },
   "source": [
    "Here's the result:"
   ]
  },
  {
   "cell_type": "code",
   "execution_count": 54,
   "metadata": {
    "hidden": true
   },
   "outputs": [
    {
     "data": {
      "text/html": [
       "<div>\n",
       "<style scoped>\n",
       "    .dataframe tbody tr th:only-of-type {\n",
       "        vertical-align: middle;\n",
       "    }\n",
       "\n",
       "    .dataframe tbody tr th {\n",
       "        vertical-align: top;\n",
       "    }\n",
       "\n",
       "    .dataframe thead th {\n",
       "        text-align: right;\n",
       "    }\n",
       "</style>\n",
       "<table border=\"1\" class=\"dataframe\">\n",
       "  <thead>\n",
       "    <tr style=\"text-align: right;\">\n",
       "      <th></th>\n",
       "      <th>CID</th>\n",
       "      <th>SMILES</th>\n",
       "      <th>Image</th>\n",
       "      <th>Activity</th>\n",
       "      <th>is_valid</th>\n",
       "      <th>act_0</th>\n",
       "      <th>act_1</th>\n",
       "      <th>act_2</th>\n",
       "      <th>act_3</th>\n",
       "      <th>act_4</th>\n",
       "      <th>...</th>\n",
       "      <th>act_118</th>\n",
       "      <th>act_119</th>\n",
       "      <th>act_120</th>\n",
       "      <th>act_121</th>\n",
       "      <th>act_122</th>\n",
       "      <th>act_123</th>\n",
       "      <th>act_124</th>\n",
       "      <th>act_125</th>\n",
       "      <th>act_126</th>\n",
       "      <th>act_127</th>\n",
       "    </tr>\n",
       "  </thead>\n",
       "  <tbody>\n",
       "    <tr>\n",
       "      <th>0</th>\n",
       "      <td>CHEMBL1454842</td>\n",
       "      <td>s1nc(nc1-c1ccncc1)-c1ccncc1</td>\n",
       "      <td>CHEMBL1454842.png</td>\n",
       "      <td>1</td>\n",
       "      <td>True</td>\n",
       "      <td>-4.532230</td>\n",
       "      <td>1.224248</td>\n",
       "      <td>1.966423</td>\n",
       "      <td>-8.381850</td>\n",
       "      <td>-4.273423</td>\n",
       "      <td>...</td>\n",
       "      <td>1.763183</td>\n",
       "      <td>4.787558</td>\n",
       "      <td>-0.030395</td>\n",
       "      <td>0.706915</td>\n",
       "      <td>4.570997</td>\n",
       "      <td>-4.053734</td>\n",
       "      <td>1.609689</td>\n",
       "      <td>-9.081184</td>\n",
       "      <td>-3.181017</td>\n",
       "      <td>-0.203582</td>\n",
       "    </tr>\n",
       "    <tr>\n",
       "      <th>1</th>\n",
       "      <td>CHEMBL1939366</td>\n",
       "      <td>s1nc(nc1-c1cccnc1)-c1cccnc1</td>\n",
       "      <td>CHEMBL1939366.png</td>\n",
       "      <td>1</td>\n",
       "      <td>False</td>\n",
       "      <td>-1.808507</td>\n",
       "      <td>-4.563689</td>\n",
       "      <td>5.895098</td>\n",
       "      <td>-10.517269</td>\n",
       "      <td>-1.176649</td>\n",
       "      <td>...</td>\n",
       "      <td>1.855113</td>\n",
       "      <td>5.819135</td>\n",
       "      <td>1.286643</td>\n",
       "      <td>0.472754</td>\n",
       "      <td>5.768912</td>\n",
       "      <td>-6.418476</td>\n",
       "      <td>0.230072</td>\n",
       "      <td>-10.999625</td>\n",
       "      <td>-1.719881</td>\n",
       "      <td>0.570552</td>\n",
       "    </tr>\n",
       "    <tr>\n",
       "      <th>2</th>\n",
       "      <td>CHEMBL192155</td>\n",
       "      <td>s1cncc1\\C=C\\1/CCc2cc(OC)ccc/12</td>\n",
       "      <td>CHEMBL192155.png</td>\n",
       "      <td>1</td>\n",
       "      <td>True</td>\n",
       "      <td>-8.560979</td>\n",
       "      <td>0.846689</td>\n",
       "      <td>0.049120</td>\n",
       "      <td>-1.327353</td>\n",
       "      <td>-7.730018</td>\n",
       "      <td>...</td>\n",
       "      <td>-3.007366</td>\n",
       "      <td>3.108833</td>\n",
       "      <td>-8.790288</td>\n",
       "      <td>1.812331</td>\n",
       "      <td>6.819275</td>\n",
       "      <td>-4.330555</td>\n",
       "      <td>-0.905350</td>\n",
       "      <td>-2.298186</td>\n",
       "      <td>-4.472672</td>\n",
       "      <td>2.156450</td>\n",
       "    </tr>\n",
       "    <tr>\n",
       "      <th>3</th>\n",
       "      <td>CHEMBL517816</td>\n",
       "      <td>s1cccc1CN(n1ncnc1)Cc1ccc(cc1)C(C)(C)C</td>\n",
       "      <td>CHEMBL517816.png</td>\n",
       "      <td>1</td>\n",
       "      <td>False</td>\n",
       "      <td>-5.608230</td>\n",
       "      <td>-2.238472</td>\n",
       "      <td>-7.511558</td>\n",
       "      <td>-10.029954</td>\n",
       "      <td>-2.402340</td>\n",
       "      <td>...</td>\n",
       "      <td>-2.008709</td>\n",
       "      <td>2.589823</td>\n",
       "      <td>-5.040246</td>\n",
       "      <td>-3.112130</td>\n",
       "      <td>7.388686</td>\n",
       "      <td>1.422117</td>\n",
       "      <td>-1.783719</td>\n",
       "      <td>-1.335929</td>\n",
       "      <td>-2.932731</td>\n",
       "      <td>-7.631751</td>\n",
       "    </tr>\n",
       "    <tr>\n",
       "      <th>4</th>\n",
       "      <td>CHEMBL523973</td>\n",
       "      <td>s1cccc1CN(n1ccnc1)Cc1ccc(cc1)C(C)(C)C</td>\n",
       "      <td>CHEMBL523973.png</td>\n",
       "      <td>1</td>\n",
       "      <td>False</td>\n",
       "      <td>-8.388573</td>\n",
       "      <td>-0.210374</td>\n",
       "      <td>-9.306000</td>\n",
       "      <td>-9.646712</td>\n",
       "      <td>-0.523898</td>\n",
       "      <td>...</td>\n",
       "      <td>-0.859448</td>\n",
       "      <td>4.472140</td>\n",
       "      <td>-4.902832</td>\n",
       "      <td>-2.552387</td>\n",
       "      <td>9.227387</td>\n",
       "      <td>2.896422</td>\n",
       "      <td>-1.879456</td>\n",
       "      <td>-0.274850</td>\n",
       "      <td>0.562973</td>\n",
       "      <td>-7.948639</td>\n",
       "    </tr>\n",
       "  </tbody>\n",
       "</table>\n",
       "<p>5 rows × 133 columns</p>\n",
       "</div>"
      ],
      "text/plain": [
       "             CID                                 SMILES              Image  \\\n",
       "0  CHEMBL1454842            s1nc(nc1-c1ccncc1)-c1ccncc1  CHEMBL1454842.png   \n",
       "1  CHEMBL1939366            s1nc(nc1-c1cccnc1)-c1cccnc1  CHEMBL1939366.png   \n",
       "2   CHEMBL192155         s1cncc1\\C=C\\1/CCc2cc(OC)ccc/12   CHEMBL192155.png   \n",
       "3   CHEMBL517816  s1cccc1CN(n1ncnc1)Cc1ccc(cc1)C(C)(C)C   CHEMBL517816.png   \n",
       "4   CHEMBL523973  s1cccc1CN(n1ccnc1)Cc1ccc(cc1)C(C)(C)C   CHEMBL523973.png   \n",
       "\n",
       "   Activity is_valid     act_0     act_1     act_2      act_3     act_4  ...  \\\n",
       "0         1     True -4.532230  1.224248  1.966423  -8.381850 -4.273423  ...   \n",
       "1         1    False -1.808507 -4.563689  5.895098 -10.517269 -1.176649  ...   \n",
       "2         1     True -8.560979  0.846689  0.049120  -1.327353 -7.730018  ...   \n",
       "3         1    False -5.608230 -2.238472 -7.511558 -10.029954 -2.402340  ...   \n",
       "4         1    False -8.388573 -0.210374 -9.306000  -9.646712 -0.523898  ...   \n",
       "\n",
       "    act_118   act_119   act_120   act_121   act_122   act_123   act_124  \\\n",
       "0  1.763183  4.787558 -0.030395  0.706915  4.570997 -4.053734  1.609689   \n",
       "1  1.855113  5.819135  1.286643  0.472754  5.768912 -6.418476  0.230072   \n",
       "2 -3.007366  3.108833 -8.790288  1.812331  6.819275 -4.330555 -0.905350   \n",
       "3 -2.008709  2.589823 -5.040246 -3.112130  7.388686  1.422117 -1.783719   \n",
       "4 -0.859448  4.472140 -4.902832 -2.552387  9.227387  2.896422 -1.879456   \n",
       "\n",
       "     act_125   act_126   act_127  \n",
       "0  -9.081184 -3.181017 -0.203582  \n",
       "1 -10.999625 -1.719881  0.570552  \n",
       "2  -2.298186 -4.472672  2.156450  \n",
       "3  -1.335929 -2.932731 -7.631751  \n",
       "4  -0.274850  0.562973 -7.948639  \n",
       "\n",
       "[5 rows x 133 columns]"
      ]
     },
     "execution_count": 54,
     "metadata": {},
     "output_type": "execute_result"
    }
   ],
   "source": [
    "df_acts.head()"
   ]
  },
  {
   "cell_type": "code",
   "execution_count": 55,
   "metadata": {
    "hidden": true
   },
   "outputs": [
    {
     "name": "stdout",
     "output_type": "stream",
     "text": [
      "<class 'pandas.core.frame.DataFrame'>\n",
      "RangeIndex: 6831 entries, 0 to 6830\n",
      "Columns: 133 entries, CID to act_127\n",
      "dtypes: float32(128), int64(1), object(4)\n",
      "memory usage: 3.6+ MB\n"
     ]
    }
   ],
   "source": [
    "df_acts.info()"
   ]
  },
  {
   "cell_type": "code",
   "execution_count": 56,
   "metadata": {
    "hidden": true
   },
   "outputs": [],
   "source": [
    "df_acts.to_csv('data/chembl1978_with_cnn_activations.csv', index=None)"
   ]
  },
  {
   "cell_type": "markdown",
   "metadata": {
    "heading_collapsed": true
   },
   "source": [
    "# Add molecular fingerprints"
   ]
  },
  {
   "cell_type": "markdown",
   "metadata": {
    "hidden": true
   },
   "source": [
    "When training the random forest below, we'll compare the results obtained by using _molecular fingerprints_ as features describing molecules. See the notebook `1.0-get_molecular_fingerprints_and_images.ipynb` for the code to generate fingerprints."
   ]
  },
  {
   "cell_type": "code",
   "execution_count": 57,
   "metadata": {
    "hidden": true
   },
   "outputs": [],
   "source": [
    "#df_ecfp = pd.read_csv(LOCALDATA/'CHEMBL1978_cl_ecfp_1024.csv')"
   ]
  },
  {
   "cell_type": "code",
   "execution_count": 58,
   "metadata": {
    "hidden": true
   },
   "outputs": [
    {
     "data": {
      "text/html": [
       "<div>\n",
       "<style scoped>\n",
       "    .dataframe tbody tr th:only-of-type {\n",
       "        vertical-align: middle;\n",
       "    }\n",
       "\n",
       "    .dataframe tbody tr th {\n",
       "        vertical-align: top;\n",
       "    }\n",
       "\n",
       "    .dataframe thead th {\n",
       "        text-align: right;\n",
       "    }\n",
       "</style>\n",
       "<table border=\"1\" class=\"dataframe\">\n",
       "  <thead>\n",
       "    <tr style=\"text-align: right;\">\n",
       "      <th></th>\n",
       "      <th>CID</th>\n",
       "      <th>SMILES</th>\n",
       "      <th>Activity</th>\n",
       "      <th>ECFP4_1</th>\n",
       "      <th>ECFP4_2</th>\n",
       "      <th>ECFP4_3</th>\n",
       "      <th>ECFP4_4</th>\n",
       "      <th>ECFP4_5</th>\n",
       "      <th>ECFP4_6</th>\n",
       "      <th>ECFP4_7</th>\n",
       "      <th>...</th>\n",
       "      <th>ECFP4_1015</th>\n",
       "      <th>ECFP4_1016</th>\n",
       "      <th>ECFP4_1017</th>\n",
       "      <th>ECFP4_1018</th>\n",
       "      <th>ECFP4_1019</th>\n",
       "      <th>ECFP4_1020</th>\n",
       "      <th>ECFP4_1021</th>\n",
       "      <th>ECFP4_1022</th>\n",
       "      <th>ECFP4_1023</th>\n",
       "      <th>ECFP4_1024</th>\n",
       "    </tr>\n",
       "  </thead>\n",
       "  <tbody>\n",
       "    <tr>\n",
       "      <th>0</th>\n",
       "      <td>CHEMBL1454842</td>\n",
       "      <td>s1nc(nc1-c1ccncc1)-c1ccncc1</td>\n",
       "      <td>1</td>\n",
       "      <td>0</td>\n",
       "      <td>0</td>\n",
       "      <td>0</td>\n",
       "      <td>0</td>\n",
       "      <td>0</td>\n",
       "      <td>0</td>\n",
       "      <td>0</td>\n",
       "      <td>...</td>\n",
       "      <td>0</td>\n",
       "      <td>0</td>\n",
       "      <td>0</td>\n",
       "      <td>0</td>\n",
       "      <td>0</td>\n",
       "      <td>0</td>\n",
       "      <td>0</td>\n",
       "      <td>0</td>\n",
       "      <td>0</td>\n",
       "      <td>0</td>\n",
       "    </tr>\n",
       "    <tr>\n",
       "      <th>1</th>\n",
       "      <td>CHEMBL1939366</td>\n",
       "      <td>s1nc(nc1-c1cccnc1)-c1cccnc1</td>\n",
       "      <td>1</td>\n",
       "      <td>0</td>\n",
       "      <td>0</td>\n",
       "      <td>0</td>\n",
       "      <td>0</td>\n",
       "      <td>0</td>\n",
       "      <td>0</td>\n",
       "      <td>0</td>\n",
       "      <td>...</td>\n",
       "      <td>0</td>\n",
       "      <td>0</td>\n",
       "      <td>0</td>\n",
       "      <td>0</td>\n",
       "      <td>0</td>\n",
       "      <td>0</td>\n",
       "      <td>0</td>\n",
       "      <td>0</td>\n",
       "      <td>0</td>\n",
       "      <td>0</td>\n",
       "    </tr>\n",
       "    <tr>\n",
       "      <th>2</th>\n",
       "      <td>CHEMBL192155</td>\n",
       "      <td>s1cncc1\\C=C\\1/CCc2cc(OC)ccc/12</td>\n",
       "      <td>1</td>\n",
       "      <td>0</td>\n",
       "      <td>0</td>\n",
       "      <td>0</td>\n",
       "      <td>0</td>\n",
       "      <td>0</td>\n",
       "      <td>0</td>\n",
       "      <td>0</td>\n",
       "      <td>...</td>\n",
       "      <td>0</td>\n",
       "      <td>0</td>\n",
       "      <td>0</td>\n",
       "      <td>0</td>\n",
       "      <td>0</td>\n",
       "      <td>0</td>\n",
       "      <td>0</td>\n",
       "      <td>0</td>\n",
       "      <td>0</td>\n",
       "      <td>0</td>\n",
       "    </tr>\n",
       "    <tr>\n",
       "      <th>3</th>\n",
       "      <td>CHEMBL517816</td>\n",
       "      <td>s1cccc1CN(n1ncnc1)Cc1ccc(cc1)C(C)(C)C</td>\n",
       "      <td>1</td>\n",
       "      <td>0</td>\n",
       "      <td>0</td>\n",
       "      <td>0</td>\n",
       "      <td>0</td>\n",
       "      <td>0</td>\n",
       "      <td>0</td>\n",
       "      <td>0</td>\n",
       "      <td>...</td>\n",
       "      <td>0</td>\n",
       "      <td>0</td>\n",
       "      <td>0</td>\n",
       "      <td>0</td>\n",
       "      <td>0</td>\n",
       "      <td>0</td>\n",
       "      <td>0</td>\n",
       "      <td>0</td>\n",
       "      <td>0</td>\n",
       "      <td>0</td>\n",
       "    </tr>\n",
       "    <tr>\n",
       "      <th>4</th>\n",
       "      <td>CHEMBL523973</td>\n",
       "      <td>s1cccc1CN(n1ccnc1)Cc1ccc(cc1)C(C)(C)C</td>\n",
       "      <td>1</td>\n",
       "      <td>0</td>\n",
       "      <td>0</td>\n",
       "      <td>0</td>\n",
       "      <td>0</td>\n",
       "      <td>0</td>\n",
       "      <td>0</td>\n",
       "      <td>0</td>\n",
       "      <td>...</td>\n",
       "      <td>0</td>\n",
       "      <td>0</td>\n",
       "      <td>0</td>\n",
       "      <td>0</td>\n",
       "      <td>0</td>\n",
       "      <td>0</td>\n",
       "      <td>0</td>\n",
       "      <td>0</td>\n",
       "      <td>0</td>\n",
       "      <td>0</td>\n",
       "    </tr>\n",
       "  </tbody>\n",
       "</table>\n",
       "<p>5 rows × 1027 columns</p>\n",
       "</div>"
      ],
      "text/plain": [
       "             CID                                 SMILES  Activity  ECFP4_1  \\\n",
       "0  CHEMBL1454842            s1nc(nc1-c1ccncc1)-c1ccncc1         1        0   \n",
       "1  CHEMBL1939366            s1nc(nc1-c1cccnc1)-c1cccnc1         1        0   \n",
       "2   CHEMBL192155         s1cncc1\\C=C\\1/CCc2cc(OC)ccc/12         1        0   \n",
       "3   CHEMBL517816  s1cccc1CN(n1ncnc1)Cc1ccc(cc1)C(C)(C)C         1        0   \n",
       "4   CHEMBL523973  s1cccc1CN(n1ccnc1)Cc1ccc(cc1)C(C)(C)C         1        0   \n",
       "\n",
       "   ECFP4_2  ECFP4_3  ECFP4_4  ECFP4_5  ECFP4_6  ECFP4_7  ...  ECFP4_1015  \\\n",
       "0        0        0        0        0        0        0  ...           0   \n",
       "1        0        0        0        0        0        0  ...           0   \n",
       "2        0        0        0        0        0        0  ...           0   \n",
       "3        0        0        0        0        0        0  ...           0   \n",
       "4        0        0        0        0        0        0  ...           0   \n",
       "\n",
       "   ECFP4_1016  ECFP4_1017  ECFP4_1018  ECFP4_1019  ECFP4_1020  ECFP4_1021  \\\n",
       "0           0           0           0           0           0           0   \n",
       "1           0           0           0           0           0           0   \n",
       "2           0           0           0           0           0           0   \n",
       "3           0           0           0           0           0           0   \n",
       "4           0           0           0           0           0           0   \n",
       "\n",
       "   ECFP4_1022  ECFP4_1023  ECFP4_1024  \n",
       "0           0           0           0  \n",
       "1           0           0           0  \n",
       "2           0           0           0  \n",
       "3           0           0           0  \n",
       "4           0           0           0  \n",
       "\n",
       "[5 rows x 1027 columns]"
      ]
     },
     "execution_count": 58,
     "metadata": {},
     "output_type": "execute_result"
    }
   ],
   "source": [
    "df_ecfp.head()"
   ]
  },
  {
   "cell_type": "code",
   "execution_count": 59,
   "metadata": {
    "hidden": true
   },
   "outputs": [
    {
     "name": "stdout",
     "output_type": "stream",
     "text": [
      "<class 'pandas.core.frame.DataFrame'>\n",
      "RangeIndex: 6831 entries, 0 to 6830\n",
      "Columns: 1027 entries, CID to ECFP4_1024\n",
      "dtypes: int64(1025), object(2)\n",
      "memory usage: 53.5+ MB\n"
     ]
    }
   ],
   "source": [
    "df_ecfp.info()"
   ]
  },
  {
   "cell_type": "code",
   "execution_count": 60,
   "metadata": {
    "hidden": true
   },
   "outputs": [
    {
     "name": "stdout",
     "output_type": "stream",
     "text": [
      "<class 'pandas.core.frame.DataFrame'>\n",
      "RangeIndex: 6831 entries, 0 to 6830\n",
      "Columns: 133 entries, CID to act_127\n",
      "dtypes: float32(128), int64(1), object(4)\n",
      "memory usage: 3.6+ MB\n"
     ]
    }
   ],
   "source": [
    "df_acts.info()"
   ]
  },
  {
   "cell_type": "code",
   "execution_count": 61,
   "metadata": {
    "hidden": true
   },
   "outputs": [],
   "source": [
    "df = df_ecfp.merge(df_acts, on='CID')"
   ]
  },
  {
   "cell_type": "code",
   "execution_count": 62,
   "metadata": {
    "hidden": true
   },
   "outputs": [
    {
     "data": {
      "text/html": [
       "<div>\n",
       "<style scoped>\n",
       "    .dataframe tbody tr th:only-of-type {\n",
       "        vertical-align: middle;\n",
       "    }\n",
       "\n",
       "    .dataframe tbody tr th {\n",
       "        vertical-align: top;\n",
       "    }\n",
       "\n",
       "    .dataframe thead th {\n",
       "        text-align: right;\n",
       "    }\n",
       "</style>\n",
       "<table border=\"1\" class=\"dataframe\">\n",
       "  <thead>\n",
       "    <tr style=\"text-align: right;\">\n",
       "      <th></th>\n",
       "      <th>CID</th>\n",
       "      <th>SMILES_x</th>\n",
       "      <th>Activity_x</th>\n",
       "      <th>ECFP4_1</th>\n",
       "      <th>ECFP4_2</th>\n",
       "      <th>ECFP4_3</th>\n",
       "      <th>ECFP4_4</th>\n",
       "      <th>ECFP4_5</th>\n",
       "      <th>ECFP4_6</th>\n",
       "      <th>ECFP4_7</th>\n",
       "      <th>...</th>\n",
       "      <th>act_118</th>\n",
       "      <th>act_119</th>\n",
       "      <th>act_120</th>\n",
       "      <th>act_121</th>\n",
       "      <th>act_122</th>\n",
       "      <th>act_123</th>\n",
       "      <th>act_124</th>\n",
       "      <th>act_125</th>\n",
       "      <th>act_126</th>\n",
       "      <th>act_127</th>\n",
       "    </tr>\n",
       "  </thead>\n",
       "  <tbody>\n",
       "    <tr>\n",
       "      <th>0</th>\n",
       "      <td>CHEMBL1454842</td>\n",
       "      <td>s1nc(nc1-c1ccncc1)-c1ccncc1</td>\n",
       "      <td>1</td>\n",
       "      <td>0</td>\n",
       "      <td>0</td>\n",
       "      <td>0</td>\n",
       "      <td>0</td>\n",
       "      <td>0</td>\n",
       "      <td>0</td>\n",
       "      <td>0</td>\n",
       "      <td>...</td>\n",
       "      <td>1.763183</td>\n",
       "      <td>4.787558</td>\n",
       "      <td>-0.030395</td>\n",
       "      <td>0.706915</td>\n",
       "      <td>4.570997</td>\n",
       "      <td>-4.053734</td>\n",
       "      <td>1.609689</td>\n",
       "      <td>-9.081184</td>\n",
       "      <td>-3.181017</td>\n",
       "      <td>-0.203582</td>\n",
       "    </tr>\n",
       "    <tr>\n",
       "      <th>1</th>\n",
       "      <td>CHEMBL1939366</td>\n",
       "      <td>s1nc(nc1-c1cccnc1)-c1cccnc1</td>\n",
       "      <td>1</td>\n",
       "      <td>0</td>\n",
       "      <td>0</td>\n",
       "      <td>0</td>\n",
       "      <td>0</td>\n",
       "      <td>0</td>\n",
       "      <td>0</td>\n",
       "      <td>0</td>\n",
       "      <td>...</td>\n",
       "      <td>1.855113</td>\n",
       "      <td>5.819135</td>\n",
       "      <td>1.286643</td>\n",
       "      <td>0.472754</td>\n",
       "      <td>5.768912</td>\n",
       "      <td>-6.418476</td>\n",
       "      <td>0.230072</td>\n",
       "      <td>-10.999625</td>\n",
       "      <td>-1.719881</td>\n",
       "      <td>0.570552</td>\n",
       "    </tr>\n",
       "    <tr>\n",
       "      <th>2</th>\n",
       "      <td>CHEMBL192155</td>\n",
       "      <td>s1cncc1\\C=C\\1/CCc2cc(OC)ccc/12</td>\n",
       "      <td>1</td>\n",
       "      <td>0</td>\n",
       "      <td>0</td>\n",
       "      <td>0</td>\n",
       "      <td>0</td>\n",
       "      <td>0</td>\n",
       "      <td>0</td>\n",
       "      <td>0</td>\n",
       "      <td>...</td>\n",
       "      <td>-3.007366</td>\n",
       "      <td>3.108833</td>\n",
       "      <td>-8.790288</td>\n",
       "      <td>1.812331</td>\n",
       "      <td>6.819275</td>\n",
       "      <td>-4.330555</td>\n",
       "      <td>-0.905350</td>\n",
       "      <td>-2.298186</td>\n",
       "      <td>-4.472672</td>\n",
       "      <td>2.156450</td>\n",
       "    </tr>\n",
       "    <tr>\n",
       "      <th>3</th>\n",
       "      <td>CHEMBL517816</td>\n",
       "      <td>s1cccc1CN(n1ncnc1)Cc1ccc(cc1)C(C)(C)C</td>\n",
       "      <td>1</td>\n",
       "      <td>0</td>\n",
       "      <td>0</td>\n",
       "      <td>0</td>\n",
       "      <td>0</td>\n",
       "      <td>0</td>\n",
       "      <td>0</td>\n",
       "      <td>0</td>\n",
       "      <td>...</td>\n",
       "      <td>-2.008709</td>\n",
       "      <td>2.589823</td>\n",
       "      <td>-5.040246</td>\n",
       "      <td>-3.112130</td>\n",
       "      <td>7.388686</td>\n",
       "      <td>1.422117</td>\n",
       "      <td>-1.783719</td>\n",
       "      <td>-1.335929</td>\n",
       "      <td>-2.932731</td>\n",
       "      <td>-7.631751</td>\n",
       "    </tr>\n",
       "    <tr>\n",
       "      <th>4</th>\n",
       "      <td>CHEMBL523973</td>\n",
       "      <td>s1cccc1CN(n1ccnc1)Cc1ccc(cc1)C(C)(C)C</td>\n",
       "      <td>1</td>\n",
       "      <td>0</td>\n",
       "      <td>0</td>\n",
       "      <td>0</td>\n",
       "      <td>0</td>\n",
       "      <td>0</td>\n",
       "      <td>0</td>\n",
       "      <td>0</td>\n",
       "      <td>...</td>\n",
       "      <td>-0.859448</td>\n",
       "      <td>4.472140</td>\n",
       "      <td>-4.902832</td>\n",
       "      <td>-2.552387</td>\n",
       "      <td>9.227387</td>\n",
       "      <td>2.896422</td>\n",
       "      <td>-1.879456</td>\n",
       "      <td>-0.274850</td>\n",
       "      <td>0.562973</td>\n",
       "      <td>-7.948639</td>\n",
       "    </tr>\n",
       "  </tbody>\n",
       "</table>\n",
       "<p>5 rows × 1159 columns</p>\n",
       "</div>"
      ],
      "text/plain": [
       "             CID                               SMILES_x  Activity_x  ECFP4_1  \\\n",
       "0  CHEMBL1454842            s1nc(nc1-c1ccncc1)-c1ccncc1           1        0   \n",
       "1  CHEMBL1939366            s1nc(nc1-c1cccnc1)-c1cccnc1           1        0   \n",
       "2   CHEMBL192155         s1cncc1\\C=C\\1/CCc2cc(OC)ccc/12           1        0   \n",
       "3   CHEMBL517816  s1cccc1CN(n1ncnc1)Cc1ccc(cc1)C(C)(C)C           1        0   \n",
       "4   CHEMBL523973  s1cccc1CN(n1ccnc1)Cc1ccc(cc1)C(C)(C)C           1        0   \n",
       "\n",
       "   ECFP4_2  ECFP4_3  ECFP4_4  ECFP4_5  ECFP4_6  ECFP4_7  ...   act_118  \\\n",
       "0        0        0        0        0        0        0  ...  1.763183   \n",
       "1        0        0        0        0        0        0  ...  1.855113   \n",
       "2        0        0        0        0        0        0  ... -3.007366   \n",
       "3        0        0        0        0        0        0  ... -2.008709   \n",
       "4        0        0        0        0        0        0  ... -0.859448   \n",
       "\n",
       "    act_119   act_120   act_121   act_122   act_123   act_124    act_125  \\\n",
       "0  4.787558 -0.030395  0.706915  4.570997 -4.053734  1.609689  -9.081184   \n",
       "1  5.819135  1.286643  0.472754  5.768912 -6.418476  0.230072 -10.999625   \n",
       "2  3.108833 -8.790288  1.812331  6.819275 -4.330555 -0.905350  -2.298186   \n",
       "3  2.589823 -5.040246 -3.112130  7.388686  1.422117 -1.783719  -1.335929   \n",
       "4  4.472140 -4.902832 -2.552387  9.227387  2.896422 -1.879456  -0.274850   \n",
       "\n",
       "    act_126   act_127  \n",
       "0 -3.181017 -0.203582  \n",
       "1 -1.719881  0.570552  \n",
       "2 -4.472672  2.156450  \n",
       "3 -2.932731 -7.631751  \n",
       "4  0.562973 -7.948639  \n",
       "\n",
       "[5 rows x 1159 columns]"
      ]
     },
     "execution_count": 62,
     "metadata": {},
     "output_type": "execute_result"
    }
   ],
   "source": [
    "df.head()"
   ]
  },
  {
   "cell_type": "code",
   "execution_count": 63,
   "metadata": {
    "hidden": true
   },
   "outputs": [],
   "source": [
    "df.drop(['SMILES_y', \"Activity_y\"], axis=1, inplace=True)"
   ]
  },
  {
   "cell_type": "code",
   "execution_count": 64,
   "metadata": {
    "hidden": true
   },
   "outputs": [
    {
     "data": {
      "text/html": [
       "<div>\n",
       "<style scoped>\n",
       "    .dataframe tbody tr th:only-of-type {\n",
       "        vertical-align: middle;\n",
       "    }\n",
       "\n",
       "    .dataframe tbody tr th {\n",
       "        vertical-align: top;\n",
       "    }\n",
       "\n",
       "    .dataframe thead th {\n",
       "        text-align: right;\n",
       "    }\n",
       "</style>\n",
       "<table border=\"1\" class=\"dataframe\">\n",
       "  <thead>\n",
       "    <tr style=\"text-align: right;\">\n",
       "      <th></th>\n",
       "      <th>CID</th>\n",
       "      <th>SMILES_x</th>\n",
       "      <th>Activity_x</th>\n",
       "      <th>ECFP4_1</th>\n",
       "      <th>ECFP4_2</th>\n",
       "      <th>ECFP4_3</th>\n",
       "      <th>ECFP4_4</th>\n",
       "      <th>ECFP4_5</th>\n",
       "      <th>ECFP4_6</th>\n",
       "      <th>ECFP4_7</th>\n",
       "      <th>...</th>\n",
       "      <th>act_118</th>\n",
       "      <th>act_119</th>\n",
       "      <th>act_120</th>\n",
       "      <th>act_121</th>\n",
       "      <th>act_122</th>\n",
       "      <th>act_123</th>\n",
       "      <th>act_124</th>\n",
       "      <th>act_125</th>\n",
       "      <th>act_126</th>\n",
       "      <th>act_127</th>\n",
       "    </tr>\n",
       "  </thead>\n",
       "  <tbody>\n",
       "    <tr>\n",
       "      <th>0</th>\n",
       "      <td>CHEMBL1454842</td>\n",
       "      <td>s1nc(nc1-c1ccncc1)-c1ccncc1</td>\n",
       "      <td>1</td>\n",
       "      <td>0</td>\n",
       "      <td>0</td>\n",
       "      <td>0</td>\n",
       "      <td>0</td>\n",
       "      <td>0</td>\n",
       "      <td>0</td>\n",
       "      <td>0</td>\n",
       "      <td>...</td>\n",
       "      <td>1.763183</td>\n",
       "      <td>4.787558</td>\n",
       "      <td>-0.030395</td>\n",
       "      <td>0.706915</td>\n",
       "      <td>4.570997</td>\n",
       "      <td>-4.053734</td>\n",
       "      <td>1.609689</td>\n",
       "      <td>-9.081184</td>\n",
       "      <td>-3.181017</td>\n",
       "      <td>-0.203582</td>\n",
       "    </tr>\n",
       "    <tr>\n",
       "      <th>1</th>\n",
       "      <td>CHEMBL1939366</td>\n",
       "      <td>s1nc(nc1-c1cccnc1)-c1cccnc1</td>\n",
       "      <td>1</td>\n",
       "      <td>0</td>\n",
       "      <td>0</td>\n",
       "      <td>0</td>\n",
       "      <td>0</td>\n",
       "      <td>0</td>\n",
       "      <td>0</td>\n",
       "      <td>0</td>\n",
       "      <td>...</td>\n",
       "      <td>1.855113</td>\n",
       "      <td>5.819135</td>\n",
       "      <td>1.286643</td>\n",
       "      <td>0.472754</td>\n",
       "      <td>5.768912</td>\n",
       "      <td>-6.418476</td>\n",
       "      <td>0.230072</td>\n",
       "      <td>-10.999625</td>\n",
       "      <td>-1.719881</td>\n",
       "      <td>0.570552</td>\n",
       "    </tr>\n",
       "    <tr>\n",
       "      <th>2</th>\n",
       "      <td>CHEMBL192155</td>\n",
       "      <td>s1cncc1\\C=C\\1/CCc2cc(OC)ccc/12</td>\n",
       "      <td>1</td>\n",
       "      <td>0</td>\n",
       "      <td>0</td>\n",
       "      <td>0</td>\n",
       "      <td>0</td>\n",
       "      <td>0</td>\n",
       "      <td>0</td>\n",
       "      <td>0</td>\n",
       "      <td>...</td>\n",
       "      <td>-3.007366</td>\n",
       "      <td>3.108833</td>\n",
       "      <td>-8.790288</td>\n",
       "      <td>1.812331</td>\n",
       "      <td>6.819275</td>\n",
       "      <td>-4.330555</td>\n",
       "      <td>-0.905350</td>\n",
       "      <td>-2.298186</td>\n",
       "      <td>-4.472672</td>\n",
       "      <td>2.156450</td>\n",
       "    </tr>\n",
       "    <tr>\n",
       "      <th>3</th>\n",
       "      <td>CHEMBL517816</td>\n",
       "      <td>s1cccc1CN(n1ncnc1)Cc1ccc(cc1)C(C)(C)C</td>\n",
       "      <td>1</td>\n",
       "      <td>0</td>\n",
       "      <td>0</td>\n",
       "      <td>0</td>\n",
       "      <td>0</td>\n",
       "      <td>0</td>\n",
       "      <td>0</td>\n",
       "      <td>0</td>\n",
       "      <td>...</td>\n",
       "      <td>-2.008709</td>\n",
       "      <td>2.589823</td>\n",
       "      <td>-5.040246</td>\n",
       "      <td>-3.112130</td>\n",
       "      <td>7.388686</td>\n",
       "      <td>1.422117</td>\n",
       "      <td>-1.783719</td>\n",
       "      <td>-1.335929</td>\n",
       "      <td>-2.932731</td>\n",
       "      <td>-7.631751</td>\n",
       "    </tr>\n",
       "    <tr>\n",
       "      <th>4</th>\n",
       "      <td>CHEMBL523973</td>\n",
       "      <td>s1cccc1CN(n1ccnc1)Cc1ccc(cc1)C(C)(C)C</td>\n",
       "      <td>1</td>\n",
       "      <td>0</td>\n",
       "      <td>0</td>\n",
       "      <td>0</td>\n",
       "      <td>0</td>\n",
       "      <td>0</td>\n",
       "      <td>0</td>\n",
       "      <td>0</td>\n",
       "      <td>...</td>\n",
       "      <td>-0.859448</td>\n",
       "      <td>4.472140</td>\n",
       "      <td>-4.902832</td>\n",
       "      <td>-2.552387</td>\n",
       "      <td>9.227387</td>\n",
       "      <td>2.896422</td>\n",
       "      <td>-1.879456</td>\n",
       "      <td>-0.274850</td>\n",
       "      <td>0.562973</td>\n",
       "      <td>-7.948639</td>\n",
       "    </tr>\n",
       "  </tbody>\n",
       "</table>\n",
       "<p>5 rows × 1157 columns</p>\n",
       "</div>"
      ],
      "text/plain": [
       "             CID                               SMILES_x  Activity_x  ECFP4_1  \\\n",
       "0  CHEMBL1454842            s1nc(nc1-c1ccncc1)-c1ccncc1           1        0   \n",
       "1  CHEMBL1939366            s1nc(nc1-c1cccnc1)-c1cccnc1           1        0   \n",
       "2   CHEMBL192155         s1cncc1\\C=C\\1/CCc2cc(OC)ccc/12           1        0   \n",
       "3   CHEMBL517816  s1cccc1CN(n1ncnc1)Cc1ccc(cc1)C(C)(C)C           1        0   \n",
       "4   CHEMBL523973  s1cccc1CN(n1ccnc1)Cc1ccc(cc1)C(C)(C)C           1        0   \n",
       "\n",
       "   ECFP4_2  ECFP4_3  ECFP4_4  ECFP4_5  ECFP4_6  ECFP4_7  ...   act_118  \\\n",
       "0        0        0        0        0        0        0  ...  1.763183   \n",
       "1        0        0        0        0        0        0  ...  1.855113   \n",
       "2        0        0        0        0        0        0  ... -3.007366   \n",
       "3        0        0        0        0        0        0  ... -2.008709   \n",
       "4        0        0        0        0        0        0  ... -0.859448   \n",
       "\n",
       "    act_119   act_120   act_121   act_122   act_123   act_124    act_125  \\\n",
       "0  4.787558 -0.030395  0.706915  4.570997 -4.053734  1.609689  -9.081184   \n",
       "1  5.819135  1.286643  0.472754  5.768912 -6.418476  0.230072 -10.999625   \n",
       "2  3.108833 -8.790288  1.812331  6.819275 -4.330555 -0.905350  -2.298186   \n",
       "3  2.589823 -5.040246 -3.112130  7.388686  1.422117 -1.783719  -1.335929   \n",
       "4  4.472140 -4.902832 -2.552387  9.227387  2.896422 -1.879456  -0.274850   \n",
       "\n",
       "    act_126   act_127  \n",
       "0 -3.181017 -0.203582  \n",
       "1 -1.719881  0.570552  \n",
       "2 -4.472672  2.156450  \n",
       "3 -2.932731 -7.631751  \n",
       "4  0.562973 -7.948639  \n",
       "\n",
       "[5 rows x 1157 columns]"
      ]
     },
     "execution_count": 64,
     "metadata": {},
     "output_type": "execute_result"
    }
   ],
   "source": [
    "df.head()"
   ]
  },
  {
   "cell_type": "code",
   "execution_count": 65,
   "metadata": {
    "hidden": true
   },
   "outputs": [],
   "source": [
    "df.rename(columns={'SMILES_x': 'SMILES', 'Activity_x': 'Activity'}, inplace=True)"
   ]
  },
  {
   "cell_type": "markdown",
   "metadata": {
    "hidden": true
   },
   "source": [
    "Save the dataframe:"
   ]
  },
  {
   "cell_type": "code",
   "execution_count": 66,
   "metadata": {
    "hidden": true
   },
   "outputs": [
    {
     "data": {
      "text/plain": [
       "Path('/home/alex/Dropbox/Jobb/projects/ML/medGPU1-alex/HVL-MMIV-DLN-AI-2022/1-deep_learning/Part-2-practical_deep_learning/nbs/data/drug/interim')"
      ]
     },
     "execution_count": 66,
     "metadata": {},
     "output_type": "execute_result"
    }
   ],
   "source": [
    "LOCALDATA"
   ]
  },
  {
   "cell_type": "code",
   "execution_count": 67,
   "metadata": {
    "hidden": true
   },
   "outputs": [],
   "source": [
    "df.to_csv(LOCALDATA/'chembl1978-data-with-ecfp-activations.csv', index=None)"
   ]
  },
  {
   "cell_type": "markdown",
   "metadata": {
    "heading_collapsed": true
   },
   "source": [
    "# Train machine learning models on extracted features"
   ]
  },
  {
   "cell_type": "markdown",
   "metadata": {
    "heading_collapsed": true,
    "hidden": true
   },
   "source": [
    "### Split the data"
   ]
  },
  {
   "cell_type": "markdown",
   "metadata": {
    "hidden": true
   },
   "source": [
    "We use the validation data from the CNN model as test data (as it's unseen by the CNN model during training)."
   ]
  },
  {
   "cell_type": "code",
   "execution_count": 68,
   "metadata": {
    "hidden": true
   },
   "outputs": [],
   "source": [
    "train = df.loc[df.is_valid==False]\n",
    "test = df.loc[df.is_valid==True]"
   ]
  },
  {
   "cell_type": "code",
   "execution_count": 69,
   "metadata": {
    "hidden": true
   },
   "outputs": [],
   "source": [
    "X_train, y_train = train.drop([\"CID\", \"SMILES\", \"Activity\", \"Image\"], axis=1), train[\"Activity\"]"
   ]
  },
  {
   "cell_type": "code",
   "execution_count": 70,
   "metadata": {
    "hidden": true
   },
   "outputs": [],
   "source": [
    "X_test, y_test = test.drop([\"CID\", \"SMILES\", \"Activity\", \"Image\"], axis=1), test[\"Activity\"]"
   ]
  },
  {
   "cell_type": "code",
   "execution_count": 71,
   "metadata": {
    "hidden": true
   },
   "outputs": [
    {
     "data": {
      "text/html": [
       "<div>\n",
       "<style scoped>\n",
       "    .dataframe tbody tr th:only-of-type {\n",
       "        vertical-align: middle;\n",
       "    }\n",
       "\n",
       "    .dataframe tbody tr th {\n",
       "        vertical-align: top;\n",
       "    }\n",
       "\n",
       "    .dataframe thead th {\n",
       "        text-align: right;\n",
       "    }\n",
       "</style>\n",
       "<table border=\"1\" class=\"dataframe\">\n",
       "  <thead>\n",
       "    <tr style=\"text-align: right;\">\n",
       "      <th></th>\n",
       "      <th>ECFP4_1</th>\n",
       "      <th>ECFP4_2</th>\n",
       "      <th>ECFP4_3</th>\n",
       "      <th>ECFP4_4</th>\n",
       "      <th>ECFP4_5</th>\n",
       "      <th>ECFP4_6</th>\n",
       "      <th>ECFP4_7</th>\n",
       "      <th>ECFP4_8</th>\n",
       "      <th>ECFP4_9</th>\n",
       "      <th>ECFP4_10</th>\n",
       "      <th>...</th>\n",
       "      <th>act_118</th>\n",
       "      <th>act_119</th>\n",
       "      <th>act_120</th>\n",
       "      <th>act_121</th>\n",
       "      <th>act_122</th>\n",
       "      <th>act_123</th>\n",
       "      <th>act_124</th>\n",
       "      <th>act_125</th>\n",
       "      <th>act_126</th>\n",
       "      <th>act_127</th>\n",
       "    </tr>\n",
       "  </thead>\n",
       "  <tbody>\n",
       "    <tr>\n",
       "      <th>1</th>\n",
       "      <td>0</td>\n",
       "      <td>0</td>\n",
       "      <td>0</td>\n",
       "      <td>0</td>\n",
       "      <td>0</td>\n",
       "      <td>0</td>\n",
       "      <td>0</td>\n",
       "      <td>0</td>\n",
       "      <td>0</td>\n",
       "      <td>0</td>\n",
       "      <td>...</td>\n",
       "      <td>1.855113</td>\n",
       "      <td>5.819135</td>\n",
       "      <td>1.286643</td>\n",
       "      <td>0.472754</td>\n",
       "      <td>5.768912</td>\n",
       "      <td>-6.418476</td>\n",
       "      <td>0.230072</td>\n",
       "      <td>-10.999625</td>\n",
       "      <td>-1.719881</td>\n",
       "      <td>0.570552</td>\n",
       "    </tr>\n",
       "    <tr>\n",
       "      <th>3</th>\n",
       "      <td>0</td>\n",
       "      <td>0</td>\n",
       "      <td>0</td>\n",
       "      <td>0</td>\n",
       "      <td>0</td>\n",
       "      <td>0</td>\n",
       "      <td>0</td>\n",
       "      <td>0</td>\n",
       "      <td>0</td>\n",
       "      <td>0</td>\n",
       "      <td>...</td>\n",
       "      <td>-2.008709</td>\n",
       "      <td>2.589823</td>\n",
       "      <td>-5.040246</td>\n",
       "      <td>-3.112130</td>\n",
       "      <td>7.388686</td>\n",
       "      <td>1.422117</td>\n",
       "      <td>-1.783719</td>\n",
       "      <td>-1.335929</td>\n",
       "      <td>-2.932731</td>\n",
       "      <td>-7.631751</td>\n",
       "    </tr>\n",
       "    <tr>\n",
       "      <th>4</th>\n",
       "      <td>0</td>\n",
       "      <td>0</td>\n",
       "      <td>0</td>\n",
       "      <td>0</td>\n",
       "      <td>0</td>\n",
       "      <td>0</td>\n",
       "      <td>0</td>\n",
       "      <td>0</td>\n",
       "      <td>0</td>\n",
       "      <td>0</td>\n",
       "      <td>...</td>\n",
       "      <td>-0.859448</td>\n",
       "      <td>4.472140</td>\n",
       "      <td>-4.902832</td>\n",
       "      <td>-2.552387</td>\n",
       "      <td>9.227387</td>\n",
       "      <td>2.896422</td>\n",
       "      <td>-1.879456</td>\n",
       "      <td>-0.274850</td>\n",
       "      <td>0.562973</td>\n",
       "      <td>-7.948639</td>\n",
       "    </tr>\n",
       "    <tr>\n",
       "      <th>5</th>\n",
       "      <td>0</td>\n",
       "      <td>0</td>\n",
       "      <td>0</td>\n",
       "      <td>0</td>\n",
       "      <td>0</td>\n",
       "      <td>0</td>\n",
       "      <td>0</td>\n",
       "      <td>0</td>\n",
       "      <td>0</td>\n",
       "      <td>0</td>\n",
       "      <td>...</td>\n",
       "      <td>-0.170992</td>\n",
       "      <td>9.263041</td>\n",
       "      <td>-2.363202</td>\n",
       "      <td>1.314156</td>\n",
       "      <td>9.264038</td>\n",
       "      <td>-2.372291</td>\n",
       "      <td>1.036324</td>\n",
       "      <td>-9.633930</td>\n",
       "      <td>-1.235161</td>\n",
       "      <td>1.429714</td>\n",
       "    </tr>\n",
       "    <tr>\n",
       "      <th>8</th>\n",
       "      <td>0</td>\n",
       "      <td>0</td>\n",
       "      <td>0</td>\n",
       "      <td>0</td>\n",
       "      <td>0</td>\n",
       "      <td>0</td>\n",
       "      <td>0</td>\n",
       "      <td>0</td>\n",
       "      <td>0</td>\n",
       "      <td>0</td>\n",
       "      <td>...</td>\n",
       "      <td>-2.640293</td>\n",
       "      <td>5.206597</td>\n",
       "      <td>0.416759</td>\n",
       "      <td>0.509764</td>\n",
       "      <td>6.881524</td>\n",
       "      <td>-5.670618</td>\n",
       "      <td>-7.971480</td>\n",
       "      <td>-7.454432</td>\n",
       "      <td>-4.715279</td>\n",
       "      <td>-0.797282</td>\n",
       "    </tr>\n",
       "  </tbody>\n",
       "</table>\n",
       "<p>5 rows × 1153 columns</p>\n",
       "</div>"
      ],
      "text/plain": [
       "   ECFP4_1  ECFP4_2  ECFP4_3  ECFP4_4  ECFP4_5  ECFP4_6  ECFP4_7  ECFP4_8  \\\n",
       "1        0        0        0        0        0        0        0        0   \n",
       "3        0        0        0        0        0        0        0        0   \n",
       "4        0        0        0        0        0        0        0        0   \n",
       "5        0        0        0        0        0        0        0        0   \n",
       "8        0        0        0        0        0        0        0        0   \n",
       "\n",
       "   ECFP4_9  ECFP4_10  ...   act_118   act_119   act_120   act_121   act_122  \\\n",
       "1        0         0  ...  1.855113  5.819135  1.286643  0.472754  5.768912   \n",
       "3        0         0  ... -2.008709  2.589823 -5.040246 -3.112130  7.388686   \n",
       "4        0         0  ... -0.859448  4.472140 -4.902832 -2.552387  9.227387   \n",
       "5        0         0  ... -0.170992  9.263041 -2.363202  1.314156  9.264038   \n",
       "8        0         0  ... -2.640293  5.206597  0.416759  0.509764  6.881524   \n",
       "\n",
       "    act_123   act_124    act_125   act_126   act_127  \n",
       "1 -6.418476  0.230072 -10.999625 -1.719881  0.570552  \n",
       "3  1.422117 -1.783719  -1.335929 -2.932731 -7.631751  \n",
       "4  2.896422 -1.879456  -0.274850  0.562973 -7.948639  \n",
       "5 -2.372291  1.036324  -9.633930 -1.235161  1.429714  \n",
       "8 -5.670618 -7.971480  -7.454432 -4.715279 -0.797282  \n",
       "\n",
       "[5 rows x 1153 columns]"
      ]
     },
     "execution_count": 71,
     "metadata": {},
     "output_type": "execute_result"
    }
   ],
   "source": [
    "X_train.head()"
   ]
  },
  {
   "cell_type": "code",
   "execution_count": 72,
   "metadata": {
    "hidden": true
   },
   "outputs": [
    {
     "data": {
      "text/plain": [
       "1    1\n",
       "3    1\n",
       "4    1\n",
       "5    1\n",
       "8    1\n",
       "Name: Activity, dtype: int64"
      ]
     },
     "execution_count": 72,
     "metadata": {},
     "output_type": "execute_result"
    }
   ],
   "source": [
    "y_train.head()"
   ]
  },
  {
   "cell_type": "markdown",
   "metadata": {
    "heading_collapsed": true,
    "hidden": true
   },
   "source": [
    "### Logistic Regression and Random forest"
   ]
  },
  {
   "cell_type": "code",
   "execution_count": 73,
   "metadata": {
    "hidden": true
   },
   "outputs": [],
   "source": [
    "from sklearn.linear_model import LogisticRegression\n",
    "from sklearn.ensemble import RandomForestClassifier\n",
    "from sklearn.preprocessing import StandardScaler"
   ]
  },
  {
   "cell_type": "code",
   "execution_count": 74,
   "metadata": {
    "hidden": true
   },
   "outputs": [],
   "source": [
    "from sklearn.metrics import (roc_auc_score, accuracy_score, recall_score, \n",
    "matthews_corrcoef, precision_score, f1_score)"
   ]
  },
  {
   "cell_type": "code",
   "execution_count": 75,
   "metadata": {
    "hidden": true
   },
   "outputs": [],
   "source": [
    "def train_lr(X_train, X_test, y_train, y_test, features='ECFP'):\n",
    "    \n",
    "    if features!='all':\n",
    "        X_train = X_train[[c for c in X_train.columns if features in c]]\n",
    "        X_test = X_test[[c for c in X_test.columns if features in c]]\n",
    "        print(f'Training on {len(X_train.columns)} features\\n')\n",
    "    else:\n",
    "        print(f'Training on all {len(X_train.columns)} ECFP and CNN features\\n')\n",
    "    \n",
    "    # Must scale the data for the linear logreg model:\n",
    "    sc = StandardScaler()\n",
    "    X_train_std = sc.fit_transform(X_train)\n",
    "    X_test_std = sc.transform(X_test)\n",
    "    \n",
    "    \n",
    "    lr = LogisticRegression(max_iter=500)\n",
    "  \n",
    "    lr.fit(X_train_std, y_train)\n",
    "    \n",
    "    y_pred = lr.predict(X_test_std)\n",
    "    y_pred_prob = lr.predict_proba(X_test_std)\n",
    "    \n",
    "    temp=[]\n",
    "    for j in range(len(y_pred_prob)):\n",
    "    \ttemp.append(y_pred_prob[j][1])\n",
    "    auc=roc_auc_score(np.array(y_test),np.array(temp))\n",
    "    acc2=accuracy_score(y_test,y_pred)\n",
    "    mcc=matthews_corrcoef(y_test,y_pred)\n",
    "    Recall=recall_score(y_test, y_pred,pos_label=1)\n",
    "    Precision=precision_score(y_test, y_pred,pos_label=1)\n",
    "    F1_score=f1_score(y_test, y_pred,pos_label=1)\n",
    "    \n",
    "    print(f\"AUC: {auc.round(5)}, Acc: {acc2.round(5)}, MCC: {mcc.round(5)}\")\n",
    "    print(f\"Recall: {Recall.round(5)}, Precision: {Precision.round(5)}, F1_score: {F1_score.round(5)}\")\n",
    "\n",
    "    return auc,acc2,mcc,Recall,Precision,F1_score, lr"
   ]
  },
  {
   "cell_type": "code",
   "execution_count": 76,
   "metadata": {
    "hidden": true
   },
   "outputs": [],
   "source": [
    "def train_rf(X_train, X_test, y_train, y_test, n_estimators=100, \n",
    "             criterion='gini', max_features='log2', features='ECFP'):\n",
    "    \n",
    "    if features!='all':\n",
    "        X_train = X_train[[c for c in X_train.columns if features in c]]\n",
    "        X_test = X_test[[c for c in X_test.columns if features in c]]\n",
    "        print(f'Training on {len(X_train.columns)} features\\n')\n",
    "    else:\n",
    "        print(f'Training on all {len(X_train.columns)} ECFP and CNN features\\n')\n",
    "    \n",
    "    # Following the settings in the paper, `RF_tune.py`\n",
    "    rf = RandomForestClassifier(n_estimators=n_estimators, criterion=criterion, min_samples_split=2, \n",
    "                                    max_features=max_features, max_leaf_nodes=None, \n",
    "                                    bootstrap=False,oob_score=False, n_jobs=-1, \n",
    "                                    random_state=100)\n",
    "    \n",
    "    rf.fit(X_train, y_train)\n",
    "    \n",
    "    y_pred = rf.predict(X_test)\n",
    "    y_pred_prob = rf.predict_proba(X_test)\n",
    "    \n",
    "    temp=[]\n",
    "    for j in range(len(y_pred_prob)):\n",
    "    \ttemp.append(y_pred_prob[j][1])\n",
    "    auc=roc_auc_score(np.array(y_test),np.array(temp))\n",
    "    acc2=accuracy_score(y_test,y_pred)\n",
    "    mcc=matthews_corrcoef(y_test,y_pred)\n",
    "    Recall=recall_score(y_test, y_pred,pos_label=1)\n",
    "    Precision=precision_score(y_test, y_pred,pos_label=1)\n",
    "    F1_score=f1_score(y_test, y_pred,pos_label=1)\n",
    "    \n",
    "    print(f\"AUC: {auc.round(5)}, Acc: {acc2.round(5)}, MCC: {mcc.round(5)}\")\n",
    "    print(f\"Recall: {Recall.round(5)}, Precision: {Precision.round(5)}, F1_score: {F1_score.round(5)}\")\n",
    "\n",
    "    return auc,acc2,mcc,Recall,Precision,F1_score, rf"
   ]
  },
  {
   "cell_type": "markdown",
   "metadata": {
    "hidden": true
   },
   "source": [
    "**Logistic regression:**"
   ]
  },
  {
   "cell_type": "code",
   "execution_count": 77,
   "metadata": {
    "hidden": true
   },
   "outputs": [
    {
     "name": "stdout",
     "output_type": "stream",
     "text": [
      "Training on 1024 features\n",
      "\n",
      "AUC: 0.98444, Acc: 0.97541, MCC: 0.85188\n",
      "Recall: 0.87097, Precision: 0.85987, F1_score: 0.86538\n"
     ]
    }
   ],
   "source": [
    "_ = train_lr(X_train, X_test, y_train, y_test, features='ECFP')"
   ]
  },
  {
   "cell_type": "code",
   "execution_count": 78,
   "metadata": {
    "hidden": true
   },
   "outputs": [
    {
     "name": "stdout",
     "output_type": "stream",
     "text": [
      "Training on 128 features\n",
      "\n",
      "AUC: 0.97439, Acc: 0.96019, MCC: 0.75333\n",
      "Recall: 0.75484, Precision: 0.79592, F1_score: 0.77483\n"
     ]
    }
   ],
   "source": [
    "_ = train_lr(X_train, X_test, y_train, y_test, features='act_')"
   ]
  },
  {
   "cell_type": "code",
   "execution_count": 79,
   "metadata": {
    "hidden": true,
    "scrolled": true
   },
   "outputs": [
    {
     "name": "stdout",
     "output_type": "stream",
     "text": [
      "Training on all 1153 ECFP and CNN features\n",
      "\n",
      "AUC: 0.98382, Acc: 0.97424, MCC: 0.84577\n",
      "Recall: 0.87097, Precision: 0.84906, F1_score: 0.85987\n"
     ]
    }
   ],
   "source": [
    "_ = train_lr(X_train, X_test, y_train, y_test, features='all')"
   ]
  },
  {
   "cell_type": "markdown",
   "metadata": {
    "hidden": true
   },
   "source": [
    "**Random forest:**"
   ]
  },
  {
   "cell_type": "code",
   "execution_count": 80,
   "metadata": {
    "hidden": true
   },
   "outputs": [
    {
     "name": "stdout",
     "output_type": "stream",
     "text": [
      "Training on 1024 features\n",
      "\n",
      "AUC: 0.99229, Acc: 0.97951, MCC: 0.87051\n",
      "Recall: 0.81935, Precision: 0.94776, F1_score: 0.87889\n"
     ]
    }
   ],
   "source": [
    "_ = train_rf(X_train, X_test, y_train, y_test, features='ECFP')"
   ]
  },
  {
   "cell_type": "code",
   "execution_count": 81,
   "metadata": {
    "hidden": true
   },
   "outputs": [
    {
     "name": "stdout",
     "output_type": "stream",
     "text": [
      "Training on 128 features\n",
      "\n",
      "AUC: 0.9732, Acc: 0.97131, MCC: 0.81809\n",
      "Recall: 0.78065, Precision: 0.88971, F1_score: 0.83162\n"
     ]
    }
   ],
   "source": [
    "_ = train_rf(X_train, X_test, y_train, y_test, features='act_')"
   ]
  },
  {
   "cell_type": "code",
   "execution_count": 82,
   "metadata": {
    "hidden": true
   },
   "outputs": [
    {
     "name": "stdout",
     "output_type": "stream",
     "text": [
      "Training on all 1153 ECFP and CNN features\n",
      "\n",
      "AUC: 0.97675, Acc: 0.97248, MCC: 0.82503\n",
      "Recall: 0.78065, Precision: 0.90299, F1_score: 0.83737\n"
     ]
    }
   ],
   "source": [
    "_ = train_rf(X_train, X_test, y_train, y_test, features='all')"
   ]
  },
  {
   "cell_type": "code",
   "execution_count": null,
   "metadata": {
    "hidden": true
   },
   "outputs": [],
   "source": []
  }
 ],
 "metadata": {
  "kernelspec": {
   "display_name": "fastai",
   "language": "python",
   "name": "fastai"
  },
  "language_info": {
   "codemirror_mode": {
    "name": "ipython",
    "version": 3
   },
   "file_extension": ".py",
   "mimetype": "text/x-python",
   "name": "python",
   "nbconvert_exporter": "python",
   "pygments_lexer": "ipython3",
   "version": "3.10.4"
  },
  "varInspector": {
   "cols": {
    "lenName": 16,
    "lenType": 16,
    "lenVar": 40
   },
   "kernels_config": {
    "python": {
     "delete_cmd_postfix": "",
     "delete_cmd_prefix": "del ",
     "library": "var_list.py",
     "varRefreshCmd": "print(var_dic_list())"
    },
    "r": {
     "delete_cmd_postfix": ") ",
     "delete_cmd_prefix": "rm(",
     "library": "var_list.r",
     "varRefreshCmd": "cat(var_dic_list()) "
    }
   },
   "types_to_exclude": [
    "module",
    "function",
    "builtin_function_or_method",
    "instance",
    "_Feature"
   ],
   "window_display": false
  }
 },
 "nbformat": 4,
 "nbformat_minor": 4
}
